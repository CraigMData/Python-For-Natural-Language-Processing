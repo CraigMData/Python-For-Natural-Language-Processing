{
 "cells": [
  {
   "cell_type": "markdown",
   "metadata": {},
   "source": [
    "# <ins>__Natural Language Processing for Movie Reviews__<ins>"
   ]
  },
  {
   "cell_type": "markdown",
   "metadata": {},
   "source": [
    "\n",
    "__Purpose:__ This Python script aims to perform sentiment analysis on a dataset consisting of 25,000 movie reviews. The goal is to classify each review as either positive or negative based on its textual content.\n",
    "The ultimate objective of this script is to build and evaluate models capable of accurately predicting the sentiment in human-created text.\n",
    "\n",
    "\n",
    "\n",
    "__Data used:__ \n",
    "* _labeledTrainData_ - The labeled training set. The file is tab-delimited and has a header row followed by 25,000 rows containing an id, sentiment, and text for each review.  \n",
    "* _testData_ - The test set. The tab-delimited file has a header row followed by 25,000 rows containing an id and text for each review. Your task is to predict the sentiment for each one. \n",
    "* _unlabeledTrainData_ - An extra training set with no labels. The tab-delimited file has a header row followed by 50,000 rows containing an id and text for each review. \n",
    "\n",
    "\n",
    "\n",
    "__Steps:__ \n",
    "> 1. Data Preprocessing:\n",
    ">> * The movie review dataset is loaded and preprocessed to remove HTML tags, punctuation, and stopwords.\n",
    ">> * The cleaned text data is tokenized into words and sentences.\n",
    "> 2. Word Embedding with Word2Vec:\n",
    ">> * The Word2Vec algorithm is employed to learn distributed representations of words from the movie review corpus.\n",
    ">> * Word embeddings capture semantic relationships between words, allowing for better understanding of their meanings in context.\n",
    "> 3. Feature Extraction:\n",
    ">> * The average feature vectors for each review are computed by averaging the Word2Vec word embeddings of its constituent words.\n",
    ">> * These average feature vectors serve as numerical representations of the review texts and are used as input for classification.\n",
    "> 4. Classification:\n",
    ">> * Two classification approaches are implemented:\n",
    ">>> * Random Forest Classifier: A machine learning model is trained on the training data to classify reviews into positive or negative categories.\n",
    ">>> * KMeans Clustering: Unsupervised clustering is performed to group similar reviews together based on their feature representations."
   ]
  },
  {
   "cell_type": "markdown",
   "metadata": {},
   "source": [
    "## <ins>Load the needed libraries<ins>"
   ]
  },
  {
   "cell_type": "code",
   "execution_count": 1,
   "metadata": {},
   "outputs": [],
   "source": [
    "# Install necessary libraries\n",
    "!pip install -q BeautifulSoup4 scikit-learn nltk gensim\n",
    "\n",
    "# runtime ~ 10s"
   ]
  },
  {
   "cell_type": "code",
   "execution_count": 2,
   "metadata": {},
   "outputs": [],
   "source": [
    "# Import necessary libraries\n",
    "import numpy as np  # Library for numerical operations\n",
    "import pandas as pd  # Library for data manipulation and analysis\n",
    "import os  # Operating system module for interacting with the file system\n",
    "import re  # Regular expression module for pattern matching\n",
    "import logging  # Logging module for logging messages\n",
    "import time  # Time module for time-related operations\n",
    "import warnings  # Warnings module for handling warnings\n",
    "import matplotlib.pyplot as plt # For plotting graphs\n",
    "from bs4 import BeautifulSoup  # BeautifulSoup for parsing HTML or XML documents\n",
    "\n",
    "import gensim  # Gensim library for topic modeling, document similarity, etc.\n",
    "from gensim.models import Word2Vec  # Word2Vec model for word embeddings\n",
    "\n",
    "import nltk  # Natural Language Toolkit for natural language processing tasks\n",
    "from nltk.corpus import stopwords  # NLTK's stopwords corpus for common stopwords\n",
    "from nltk import word_tokenize, sent_tokenize  # NLTK's tokenization functions for words and sentences\n",
    "\n",
    "from sklearn.feature_extraction.text import CountVectorizer  # Scikit-learn's CountVectorizer for converting text data to numerical vectors\n",
    "from sklearn.ensemble import RandomForestClassifier  # Scikit-learn's RandomForestClassifier for classification tasks\n",
    "from sklearn.cluster import KMeans  # Scikit-learn's KMeans for clustering tasks\n",
    "from sklearn.metrics import roc_curve, auc # For computing ROC curve and AUC\n",
    "\n",
    "# runtime ~ 5s"
   ]
  },
  {
   "cell_type": "code",
   "execution_count": 3,
   "metadata": {},
   "outputs": [
    {
     "name": "stderr",
     "output_type": "stream",
     "text": [
      "[nltk_data] Downloading package stopwords to\n",
      "[nltk_data]     C:\\Users\\craig\\AppData\\Roaming\\nltk_data...\n",
      "[nltk_data]   Package stopwords is already up-to-date!\n",
      "[nltk_data] Downloading package punkt to\n",
      "[nltk_data]     C:\\Users\\craig\\AppData\\Roaming\\nltk_data...\n",
      "[nltk_data]   Package punkt is already up-to-date!\n"
     ]
    }
   ],
   "source": [
    "# The 'stopwords' dataset is downloaded, which contains common words that are usually filtered out during text preprocessing.\n",
    "nltk.download('stopwords')\n",
    "\n",
    "# The 'punkt' tokenizer dataset is downloaded, which is used for tokenization, i.e., splitting text into individual words or sentences.\n",
    "nltk.download('punkt')\n",
    "\n",
    "# The punkt tokenizer for English language is loaded using nltk.data.load(), which will be used for sentence tokenization.\n",
    "tokenizer = nltk.data.load('tokenizers/punkt/english.pickle')\n",
    "\n",
    "# runtime ~ 5s"
   ]
  },
  {
   "cell_type": "markdown",
   "metadata": {},
   "source": [
    "# <ins>Set directory and load tsv data into Pandas Dataframe<ins>"
   ]
  },
  {
   "cell_type": "code",
   "execution_count": 4,
   "metadata": {},
   "outputs": [],
   "source": [
    "# Set the working directory path where the data files are located is specified.\n",
    "Directory = r'D:\\TechWork\\NonConfidentialProjects\\NLPForMovieReviews'\n",
    "\n",
    "# Dataframes TrainDF, TestDF, and UnlabeledTrainDF are created to hold the data from the respective files.\n",
    "# The labeled training data, test data, and unlabeled training data are read using pd.read_csv() function, with appropriate parameters:\n",
    "TrainDF = pd.read_csv(os.path.join(Directory, \"labeledTrainData.tsv\"), header=0, delimiter=\"\\t\", quoting=3)\n",
    "TestDF = pd.read_csv(os.path.join(Directory, \"testData.tsv\"), header=0, delimiter=\"\\t\", quoting=3)\n",
    "UnlabeledTrainDF = pd.read_csv(os.path.join(Directory, \"unlabeledTrainData.tsv\"), header=0, delimiter=\"\\t\", quoting=3)\n",
    "\n",
    "# runtime ~ 1s"
   ]
  },
  {
   "cell_type": "code",
   "execution_count": 5,
   "metadata": {},
   "outputs": [
    {
     "name": "stdout",
     "output_type": "stream",
     "text": [
      "\"With all this stuff going down at the moment with MJ i've started listening to his music, watching the odd documentary here and there, watched The Wiz and watched Moonwalker again. Maybe i just want to get a certain insight into this guy who i thought was really cool in the eighties just to maybe make up my mind whether he is guilty or innocent. Moonwalker is part biography, part feature film which i remember going to see at the cinema when it was originally released. Some of it has subtle messages about MJ's feeling towards the press and also the obvious message of drugs are bad m'kay.<br /><br />Visually impressive but of course this is all about Michael Jackson so unless you remotely like MJ in anyway then you are going to hate this and find it boring. Some may call MJ an egotist for consenting to the making of this movie BUT MJ and most of his fans would say that he made it for the fans which if true is really nice of him.<br /><br />The actual feature film bit when it finally starts is only on for 20 minutes or so excluding the Smooth Criminal sequence and Joe Pesci is convincing as a psychopathic all powerful drug lord. Why he wants MJ dead so bad is beyond me. Because MJ overheard his plans? Nah, Joe Pesci's character ranted that he wanted people to know it is he who is supplying drugs etc so i dunno, maybe he just hates MJ's music.<br /><br />Lots of cool things in this like MJ turning into a car and a robot and the whole Speed Demon sequence. Also, the director must have had the patience of a saint when it came to filming the kiddy Bad sequence as usually directors hate working with one kid let alone a whole bunch of them performing a complex dance scene.<br /><br />Bottom line, this movie is for people who like MJ on one level or another (which i think is most people). If not, then stay away. It does try and give off a wholesome message and ironically MJ's bestest buddy in this movie is a girl! Michael Jackson is truly one of the most talented people ever to grace this planet but is he guilty? Well, with all the attention i've gave this subject....hmmm well i don't know because people can be different behind closed doors, i know this for a fact. He is either an extremely nice but stupid guy or one of the most sickest liars. I hope he is not the latter.\"\n"
     ]
    }
   ],
   "source": [
    "# Print the first review from the TrainDF dataframe, to see what a review may look like\n",
    "print(TrainDF[\"review\"][0])\n",
    "\n",
    "# runtime ~ 1s"
   ]
  },
  {
   "cell_type": "markdown",
   "metadata": {},
   "source": [
    "# <ins>Data Preprocessing<ins>"
   ]
  },
  {
   "cell_type": "code",
   "execution_count": 6,
   "metadata": {},
   "outputs": [
    {
     "name": "stdout",
     "output_type": "stream",
     "text": [
      "Raw Review:\n",
      "\"With all this stuff going down at the moment with MJ i've started listening to his music, watching the odd documentary here and there, watched The Wiz and watched Moonwalker again. Maybe i just want to get a certain insight into this guy who i thought was really cool in the eighties just to maybe make up my mind whether he is guilty or innocent. Moonwalker is part biography, part feature film which i remember going to see at the cinema when it was originally released. Some of it has subtle messages about MJ's feeling towards the press and also the obvious message of drugs are bad m'kay.<br /><br />Visually impressive but of course this is all about Michael Jackson so unless you remotely like MJ in anyway then you are going to hate this and find it boring. Some may call MJ an egotist for consenting to the making of this movie BUT MJ and most of his fans would say that he made it for the fans which if true is really nice of him.<br /><br />The actual feature film bit when it finally starts is only on for 20 minutes or so excluding the Smooth Criminal sequence and Joe Pesci is convincing as a psychopathic all powerful drug lord. Why he wants MJ dead so bad is beyond me. Because MJ overheard his plans? Nah, Joe Pesci's character ranted that he wanted people to know it is he who is supplying drugs etc so i dunno, maybe he just hates MJ's music.<br /><br />Lots of cool things in this like MJ turning into a car and a robot and the whole Speed Demon sequence. Also, the director must have had the patience of a saint when it came to filming the kiddy Bad sequence as usually directors hate working with one kid let alone a whole bunch of them performing a complex dance scene.<br /><br />Bottom line, this movie is for people who like MJ on one level or another (which i think is most people). If not, then stay away. It does try and give off a wholesome message and ironically MJ's bestest buddy in this movie is a girl! Michael Jackson is truly one of the most talented people ever to grace this planet but is he guilty? Well, with all the attention i've gave this subject....hmmm well i don't know because people can be different behind closed doors, i know this for a fact. He is either an extremely nice but stupid guy or one of the most sickest liars. I hope he is not the latter.\"\n",
      "\n",
      "Processed Review (after removing HTML tags):\n",
      "\"With all this stuff going down at the moment with MJ i've started listening to his music, watching the odd documentary here and there, watched The Wiz and watched Moonwalker again. Maybe i just want to get a certain insight into this guy who i thought was really cool in the eighties just to maybe make up my mind whether he is guilty or innocent. Moonwalker is part biography, part feature film which i remember going to see at the cinema when it was originally released. Some of it has subtle messages about MJ's feeling towards the press and also the obvious message of drugs are bad m'kay.Visually impressive but of course this is all about Michael Jackson so unless you remotely like MJ in anyway then you are going to hate this and find it boring. Some may call MJ an egotist for consenting to the making of this movie BUT MJ and most of his fans would say that he made it for the fans which if true is really nice of him.The actual feature film bit when it finally starts is only on for 20 minutes or so excluding the Smooth Criminal sequence and Joe Pesci is convincing as a psychopathic all powerful drug lord. Why he wants MJ dead so bad is beyond me. Because MJ overheard his plans? Nah, Joe Pesci's character ranted that he wanted people to know it is he who is supplying drugs etc so i dunno, maybe he just hates MJ's music.Lots of cool things in this like MJ turning into a car and a robot and the whole Speed Demon sequence. Also, the director must have had the patience of a saint when it came to filming the kiddy Bad sequence as usually directors hate working with one kid let alone a whole bunch of them performing a complex dance scene.Bottom line, this movie is for people who like MJ on one level or another (which i think is most people). If not, then stay away. It does try and give off a wholesome message and ironically MJ's bestest buddy in this movie is a girl! Michael Jackson is truly one of the most talented people ever to grace this planet but is he guilty? Well, with all the attention i've gave this subject....hmmm well i don't know because people can be different behind closed doors, i know this for a fact. He is either an extremely nice but stupid guy or one of the most sickest liars. I hope he is not the latter.\"\n"
     ]
    }
   ],
   "source": [
    "# The BeautifulSoup object is initialized with the raw HTML content of the first movie review from TrainDF[\"review\"].\n",
    "example1 = BeautifulSoup(TrainDF[\"review\"][0], \"html.parser\")  \n",
    "\n",
    "# Print the raw review and then the output of get_text(), for comparison\n",
    "print(\"Raw Review:\")\n",
    "print(TrainDF[\"review\"][0])\n",
    "\n",
    "print(\"\\nProcessed Review (after removing HTML tags):\")\n",
    "print(example1.get_text())\n",
    "\n",
    "# runtime ~ 1s"
   ]
  },
  {
   "cell_type": "code",
   "execution_count": 7,
   "metadata": {},
   "outputs": [
    {
     "name": "stdout",
     "output_type": "stream",
     "text": [
      " With all this stuff going down at the moment with MJ i ve started listening to his music  watching the odd documentary here and there  watched The Wiz and watched Moonwalker again  Maybe i just want to get a certain insight into this guy who i thought was really cool in the eighties just to maybe make up my mind whether he is guilty or innocent  Moonwalker is part biography  part feature film which i remember going to see at the cinema when it was originally released  Some of it has subtle messages about MJ s feeling towards the press and also the obvious message of drugs are bad m kay Visually impressive but of course this is all about Michael Jackson so unless you remotely like MJ in anyway then you are going to hate this and find it boring  Some may call MJ an egotist for consenting to the making of this movie BUT MJ and most of his fans would say that he made it for the fans which if true is really nice of him The actual feature film bit when it finally starts is only on for    minutes or so excluding the Smooth Criminal sequence and Joe Pesci is convincing as a psychopathic all powerful drug lord  Why he wants MJ dead so bad is beyond me  Because MJ overheard his plans  Nah  Joe Pesci s character ranted that he wanted people to know it is he who is supplying drugs etc so i dunno  maybe he just hates MJ s music Lots of cool things in this like MJ turning into a car and a robot and the whole Speed Demon sequence  Also  the director must have had the patience of a saint when it came to filming the kiddy Bad sequence as usually directors hate working with one kid let alone a whole bunch of them performing a complex dance scene Bottom line  this movie is for people who like MJ on one level or another  which i think is most people   If not  then stay away  It does try and give off a wholesome message and ironically MJ s bestest buddy in this movie is a girl  Michael Jackson is truly one of the most talented people ever to grace this planet but is he guilty  Well  with all the attention i ve gave this subject    hmmm well i don t know because people can be different behind closed doors  i know this for a fact  He is either an extremely nice but stupid guy or one of the most sickest liars  I hope he is not the latter  \n"
     ]
    }
   ],
   "source": [
    "# Use regular expressions to find and replace non-alphabetic characters with a space\n",
    "letters_only = re.sub(\"[^a-zA-Z]\",           # The pattern to search for (non-alphabetic characters)\n",
    "                      \" \",                   # The pattern to replace non-alphabetic characters with (a space)\n",
    "                      example1.get_text() )  # The text to search (processed review)\n",
    "\n",
    "# Print the result\n",
    "print(letters_only)\n",
    "\n",
    "# runtime ~ 1s"
   ]
  },
  {
   "cell_type": "code",
   "execution_count": 8,
   "metadata": {},
   "outputs": [],
   "source": [
    "# Convert the processed review text to lowercase, with only alphabetic characters and spaces.\n",
    "lower_case = letters_only.lower()\n",
    "\n",
    "# Split the lowercase text into individual words. The resulting list 'words' contains all the words from the review text, with each word as an element of the list.\n",
    "words = lower_case.split()\n",
    "\n",
    "# runtime ~ 1s"
   ]
  },
  {
   "cell_type": "code",
   "execution_count": 9,
   "metadata": {},
   "outputs": [
    {
     "name": "stdout",
     "output_type": "stream",
     "text": [
      "['i', 'me', 'my', 'myself', 'we', 'our', 'ours', 'ourselves', 'you', \"you're\", \"you've\", \"you'll\", \"you'd\", 'your', 'yours', 'yourself', 'yourselves', 'he', 'him', 'his', 'himself', 'she', \"she's\", 'her', 'hers', 'herself', 'it', \"it's\", 'its', 'itself', 'they', 'them', 'their', 'theirs', 'themselves', 'what', 'which', 'who', 'whom', 'this', 'that', \"that'll\", 'these', 'those', 'am', 'is', 'are', 'was', 'were', 'be', 'been', 'being', 'have', 'has', 'had', 'having', 'do', 'does', 'did', 'doing', 'a', 'an', 'the', 'and', 'but', 'if', 'or', 'because', 'as', 'until', 'while', 'of', 'at', 'by', 'for', 'with', 'about', 'against', 'between', 'into', 'through', 'during', 'before', 'after', 'above', 'below', 'to', 'from', 'up', 'down', 'in', 'out', 'on', 'off', 'over', 'under', 'again', 'further', 'then', 'once', 'here', 'there', 'when', 'where', 'why', 'how', 'all', 'any', 'both', 'each', 'few', 'more', 'most', 'other', 'some', 'such', 'no', 'nor', 'not', 'only', 'own', 'same', 'so', 'than', 'too', 'very', 's', 't', 'can', 'will', 'just', 'don', \"don't\", 'should', \"should've\", 'now', 'd', 'll', 'm', 'o', 're', 've', 'y', 'ain', 'aren', \"aren't\", 'couldn', \"couldn't\", 'didn', \"didn't\", 'doesn', \"doesn't\", 'hadn', \"hadn't\", 'hasn', \"hasn't\", 'haven', \"haven't\", 'isn', \"isn't\", 'ma', 'mightn', \"mightn't\", 'mustn', \"mustn't\", 'needn', \"needn't\", 'shan', \"shan't\", 'shouldn', \"shouldn't\", 'wasn', \"wasn't\", 'weren', \"weren't\", 'won', \"won't\", 'wouldn', \"wouldn't\"]\n"
     ]
    }
   ],
   "source": [
    "# Retrieves a list of stopwords specific to the English language from NLTK's stopwords corpus.\n",
    "print(stopwords.words(\"english\"))\n",
    "\n",
    "# runtime ~ 1s"
   ]
  },
  {
   "cell_type": "code",
   "execution_count": 10,
   "metadata": {},
   "outputs": [
    {
     "name": "stdout",
     "output_type": "stream",
     "text": [
      "['stuff', 'going', 'moment', 'mj', 'started', 'listening', 'music', 'watching', 'odd', 'documentary', 'watched', 'wiz', 'watched', 'moonwalker', 'maybe', 'want', 'get', 'certain', 'insight', 'guy', 'thought', 'really', 'cool', 'eighties', 'maybe', 'make', 'mind', 'whether', 'guilty', 'innocent', 'moonwalker', 'part', 'biography', 'part', 'feature', 'film', 'remember', 'going', 'see', 'cinema', 'originally', 'released', 'subtle', 'messages', 'mj', 'feeling', 'towards', 'press', 'also', 'obvious', 'message', 'drugs', 'bad', 'kay', 'visually', 'impressive', 'course', 'michael', 'jackson', 'unless', 'remotely', 'like', 'mj', 'anyway', 'going', 'hate', 'find', 'boring', 'may', 'call', 'mj', 'egotist', 'consenting', 'making', 'movie', 'mj', 'fans', 'would', 'say', 'made', 'fans', 'true', 'really', 'nice', 'actual', 'feature', 'film', 'bit', 'finally', 'starts', 'minutes', 'excluding', 'smooth', 'criminal', 'sequence', 'joe', 'pesci', 'convincing', 'psychopathic', 'powerful', 'drug', 'lord', 'wants', 'mj', 'dead', 'bad', 'beyond', 'mj', 'overheard', 'plans', 'nah', 'joe', 'pesci', 'character', 'ranted', 'wanted', 'people', 'know', 'supplying', 'drugs', 'etc', 'dunno', 'maybe', 'hates', 'mj', 'music', 'lots', 'cool', 'things', 'like', 'mj', 'turning', 'car', 'robot', 'whole', 'speed', 'demon', 'sequence', 'also', 'director', 'must', 'patience', 'saint', 'came', 'filming', 'kiddy', 'bad', 'sequence', 'usually', 'directors', 'hate', 'working', 'one', 'kid', 'let', 'alone', 'whole', 'bunch', 'performing', 'complex', 'dance', 'scene', 'bottom', 'line', 'movie', 'people', 'like', 'mj', 'one', 'level', 'another', 'think', 'people', 'stay', 'away', 'try', 'give', 'wholesome', 'message', 'ironically', 'mj', 'bestest', 'buddy', 'movie', 'girl', 'michael', 'jackson', 'truly', 'one', 'talented', 'people', 'ever', 'grace', 'planet', 'guilty', 'well', 'attention', 'gave', 'subject', 'hmmm', 'well', 'know', 'people', 'different', 'behind', 'closed', 'doors', 'know', 'fact', 'either', 'extremely', 'nice', 'stupid', 'guy', 'one', 'sickest', 'liars', 'hope', 'latter']\n"
     ]
    }
   ],
   "source": [
    "# Remove stopwords from the list of words\n",
    "words = [w for w in words if w not in stopwords.words(\"english\")]\n",
    "\n",
    "# Print the updated list of words\n",
    "print(words)\n",
    "\n",
    "# runtime ~ 1s"
   ]
  },
  {
   "cell_type": "code",
   "execution_count": 11,
   "metadata": {},
   "outputs": [],
   "source": [
    "def review_to_words(raw_review):\n",
    "    # Function to convert a raw review to a string of words\n",
    "    # The input is a single string (a raw movie review), and \n",
    "    # the output is a single string (a preprocessed movie review)\n",
    "\n",
    "    # 1. Remove HTML\n",
    "    review_text = BeautifulSoup(raw_review).get_text() \n",
    "\n",
    "    # 2. Remove non-letters        \n",
    "    letters_only = re.sub(\"[^a-zA-Z]\", \" \", review_text) \n",
    "\n",
    "    # 3. Convert to lower case, split into individual words\n",
    "    words = letters_only.lower().split()                             \n",
    "\n",
    "    # 4. In Python, searching a set is much faster than searching\n",
    "    #    a list, so convert the stop words to a set\n",
    "    stops = set(stopwords.words(\"english\"))                  \n",
    "\n",
    "    # 5. Remove stop words\n",
    "    meaningful_words = [w for w in words if not w in stops]   \n",
    "\n",
    "    # 6. Join the words back into one string separated by space, \n",
    "    #    and return the result.\n",
    "    return \" \".join(meaningful_words)\n",
    "\n",
    "# runtime ~ 1s"
   ]
  },
  {
   "cell_type": "code",
   "execution_count": 12,
   "metadata": {},
   "outputs": [
    {
     "name": "stdout",
     "output_type": "stream",
     "text": [
      "stuff going moment mj started listening music watching odd documentary watched wiz watched moonwalker maybe want get certain insight guy thought really cool eighties maybe make mind whether guilty innocent moonwalker part biography part feature film remember going see cinema originally released subtle messages mj feeling towards press also obvious message drugs bad kay visually impressive course michael jackson unless remotely like mj anyway going hate find boring may call mj egotist consenting making movie mj fans would say made fans true really nice actual feature film bit finally starts minutes excluding smooth criminal sequence joe pesci convincing psychopathic powerful drug lord wants mj dead bad beyond mj overheard plans nah joe pesci character ranted wanted people know supplying drugs etc dunno maybe hates mj music lots cool things like mj turning car robot whole speed demon sequence also director must patience saint came filming kiddy bad sequence usually directors hate working one kid let alone whole bunch performing complex dance scene bottom line movie people like mj one level another think people stay away try give wholesome message ironically mj bestest buddy movie girl michael jackson truly one talented people ever grace planet guilty well attention gave subject hmmm well know people different behind closed doors know fact either extremely nice stupid guy one sickest liars hope latter\n"
     ]
    }
   ],
   "source": [
    "# Call the review_to_words function to preprocess the first review in TrainDF dataframe, \n",
    "# removing HTML tags, non-letter characters, converting to lowercase, and removing stopwords.\n",
    "clean_review = review_to_words(TrainDF[\"review\"][0])\n",
    "\n",
    "# Print the preprocessed review\n",
    "print(clean_review)\n",
    "\n",
    "# runtime ~ 1s"
   ]
  },
  {
   "cell_type": "code",
   "execution_count": 13,
   "metadata": {},
   "outputs": [
    {
     "name": "stdout",
     "output_type": "stream",
     "text": [
      "Cleaning and parsing the training set movie reviews...\n",
      "\n"
     ]
    },
    {
     "name": "stderr",
     "output_type": "stream",
     "text": [
      "C:\\Users\\craig\\AppData\\Local\\Temp\\ipykernel_7144\\442277322.py:7: MarkupResemblesLocatorWarning: The input looks more like a filename than markup. You may want to open this file and pass the filehandle into Beautiful Soup.\n",
      "  review_text = BeautifulSoup(raw_review).get_text()\n"
     ]
    },
    {
     "name": "stdout",
     "output_type": "stream",
     "text": [
      "Review 1000 of 25000\n",
      "\n",
      "Review 2000 of 25000\n",
      "\n",
      "Review 3000 of 25000\n",
      "\n",
      "Review 4000 of 25000\n",
      "\n",
      "Review 5000 of 25000\n",
      "\n",
      "Review 6000 of 25000\n",
      "\n",
      "Review 7000 of 25000\n",
      "\n",
      "Review 8000 of 25000\n",
      "\n",
      "Review 9000 of 25000\n",
      "\n",
      "Review 10000 of 25000\n",
      "\n",
      "Review 11000 of 25000\n",
      "\n",
      "Review 12000 of 25000\n",
      "\n",
      "Review 13000 of 25000\n",
      "\n",
      "Review 14000 of 25000\n",
      "\n",
      "Review 15000 of 25000\n",
      "\n",
      "Review 16000 of 25000\n",
      "\n",
      "Review 17000 of 25000\n",
      "\n",
      "Review 18000 of 25000\n",
      "\n",
      "Review 19000 of 25000\n",
      "\n",
      "Review 20000 of 25000\n",
      "\n",
      "Review 21000 of 25000\n",
      "\n",
      "Review 22000 of 25000\n",
      "\n",
      "Review 23000 of 25000\n",
      "\n",
      "Review 24000 of 25000\n",
      "\n",
      "Review 25000 of 25000\n",
      "\n"
     ]
    }
   ],
   "source": [
    "print(\"Cleaning and parsing the training set movie reviews...\\n\")\n",
    "\n",
    "clean_train_reviews = []\n",
    "\n",
    "num_reviews = 25000\n",
    "for i in range( 0, num_reviews ):\n",
    "    # If the index is evenly divisible by 1000, print a message\n",
    "    if( (i+1)%1000 == 0 ):\n",
    "        print(\"Review %d of %d\\n\" % ( i+1, num_reviews ))                                                                    \n",
    "    clean_train_reviews.append( review_to_words( TrainDF[\"review\"][i] ))\n",
    "\n",
    "# runtime ~ 10s"
   ]
  },
  {
   "cell_type": "markdown",
   "metadata": {},
   "source": [
    "## <ins>Create bag of words<ins>"
   ]
  },
  {
   "cell_type": "code",
   "execution_count": 14,
   "metadata": {},
   "outputs": [
    {
     "name": "stdout",
     "output_type": "stream",
     "text": [
      "Creating the bag of words...\n",
      "\n"
     ]
    }
   ],
   "source": [
    "print(\"Creating the bag of words...\\n\")\n",
    "\n",
    "# Initialize the \"CountVectorizer\" object\n",
    "# CountVectorizer converts a collection of text documents into a matrix of token counts\n",
    "\n",
    "vectorizer = CountVectorizer(analyzer=\"word\",       # Tokenizes input text into words\n",
    "                             tokenizer=None,       # Use the default tokenizer\n",
    "                             preprocessor=None,   # Use the default preprocessor\n",
    "                             stop_words=None,     # Do not remove stop words (already done)\n",
    "                             max_features=5000)   # Limit the vocabulary size to 5000 words\n",
    "\n",
    "# fit_transform() does two functions:\n",
    "# - Fits the model and learns the vocabulary\n",
    "# - Transforms our training data into feature vectors\n",
    "# The input to fit_transform should be a list of strings\n",
    "train_data_features = vectorizer.fit_transform(clean_train_reviews)\n",
    "\n",
    "# Convert the result to a NumPy array for easier manipulation\n",
    "train_data_features = train_data_features.toarray()\n",
    "\n",
    "# runtime ~ 2s"
   ]
  },
  {
   "cell_type": "code",
   "execution_count": 15,
   "metadata": {},
   "outputs": [
    {
     "name": "stdout",
     "output_type": "stream",
     "text": [
      "(25000, 5000)\n"
     ]
    }
   ],
   "source": [
    "# Print the shape of the feature vectors obtained after applying the bag-of-words transformation\n",
    "print(train_data_features.shape)\n",
    "\n",
    "# runtime ~ 1s"
   ]
  },
  {
   "cell_type": "code",
   "execution_count": 16,
   "metadata": {},
   "outputs": [
    {
     "name": "stdout",
     "output_type": "stream",
     "text": [
      "stuff\n"
     ]
    }
   ],
   "source": [
    "# Take a look at the words in the vocabulary\n",
    "vocab = vectorizer.vocabulary_ # returns a dictionary where keys are words and values are the indices assigned to those words.\n",
    "first_key = next(iter(vocab))\n",
    "print(first_key)\n",
    "\n",
    "# runtime ~ 1s"
   ]
  },
  {
   "cell_type": "code",
   "execution_count": 48,
   "metadata": {},
   "outputs": [
    {
     "name": "stdout",
     "output_type": "stream",
     "text": [
      "187 stuff\n",
      "125 going\n",
      "108 moment\n"
     ]
    }
   ],
   "source": [
    "# Sum up the counts of each vocabulary word\n",
    "dist = np.sum(train_data_features, axis=0)\n",
    "\n",
    "# Print only the first three elements\n",
    "for i, (tag, count) in enumerate(zip(vocab, dist)):\n",
    "    if i < 3:\n",
    "        print(count, tag)\n",
    "    else:\n",
    "        break\n",
    "\n",
    "# runtime ~ 1s"
   ]
  },
  {
   "cell_type": "markdown",
   "metadata": {},
   "source": [
    "## <ins>Train and use the Random Forest<ins>"
   ]
  },
  {
   "cell_type": "code",
   "execution_count": 18,
   "metadata": {},
   "outputs": [
    {
     "name": "stdout",
     "output_type": "stream",
     "text": [
      "Training the random forest...\n"
     ]
    },
    {
     "data": {
      "text/html": [
       "<style>#sk-container-id-1 {\n",
       "  /* Definition of color scheme common for light and dark mode */\n",
       "  --sklearn-color-text: black;\n",
       "  --sklearn-color-line: gray;\n",
       "  /* Definition of color scheme for unfitted estimators */\n",
       "  --sklearn-color-unfitted-level-0: #fff5e6;\n",
       "  --sklearn-color-unfitted-level-1: #f6e4d2;\n",
       "  --sklearn-color-unfitted-level-2: #ffe0b3;\n",
       "  --sklearn-color-unfitted-level-3: chocolate;\n",
       "  /* Definition of color scheme for fitted estimators */\n",
       "  --sklearn-color-fitted-level-0: #f0f8ff;\n",
       "  --sklearn-color-fitted-level-1: #d4ebff;\n",
       "  --sklearn-color-fitted-level-2: #b3dbfd;\n",
       "  --sklearn-color-fitted-level-3: cornflowerblue;\n",
       "\n",
       "  /* Specific color for light theme */\n",
       "  --sklearn-color-text-on-default-background: var(--sg-text-color, var(--theme-code-foreground, var(--jp-content-font-color1, black)));\n",
       "  --sklearn-color-background: var(--sg-background-color, var(--theme-background, var(--jp-layout-color0, white)));\n",
       "  --sklearn-color-border-box: var(--sg-text-color, var(--theme-code-foreground, var(--jp-content-font-color1, black)));\n",
       "  --sklearn-color-icon: #696969;\n",
       "\n",
       "  @media (prefers-color-scheme: dark) {\n",
       "    /* Redefinition of color scheme for dark theme */\n",
       "    --sklearn-color-text-on-default-background: var(--sg-text-color, var(--theme-code-foreground, var(--jp-content-font-color1, white)));\n",
       "    --sklearn-color-background: var(--sg-background-color, var(--theme-background, var(--jp-layout-color0, #111)));\n",
       "    --sklearn-color-border-box: var(--sg-text-color, var(--theme-code-foreground, var(--jp-content-font-color1, white)));\n",
       "    --sklearn-color-icon: #878787;\n",
       "  }\n",
       "}\n",
       "\n",
       "#sk-container-id-1 {\n",
       "  color: var(--sklearn-color-text);\n",
       "}\n",
       "\n",
       "#sk-container-id-1 pre {\n",
       "  padding: 0;\n",
       "}\n",
       "\n",
       "#sk-container-id-1 input.sk-hidden--visually {\n",
       "  border: 0;\n",
       "  clip: rect(1px 1px 1px 1px);\n",
       "  clip: rect(1px, 1px, 1px, 1px);\n",
       "  height: 1px;\n",
       "  margin: -1px;\n",
       "  overflow: hidden;\n",
       "  padding: 0;\n",
       "  position: absolute;\n",
       "  width: 1px;\n",
       "}\n",
       "\n",
       "#sk-container-id-1 div.sk-dashed-wrapped {\n",
       "  border: 1px dashed var(--sklearn-color-line);\n",
       "  margin: 0 0.4em 0.5em 0.4em;\n",
       "  box-sizing: border-box;\n",
       "  padding-bottom: 0.4em;\n",
       "  background-color: var(--sklearn-color-background);\n",
       "}\n",
       "\n",
       "#sk-container-id-1 div.sk-container {\n",
       "  /* jupyter's `normalize.less` sets `[hidden] { display: none; }`\n",
       "     but bootstrap.min.css set `[hidden] { display: none !important; }`\n",
       "     so we also need the `!important` here to be able to override the\n",
       "     default hidden behavior on the sphinx rendered scikit-learn.org.\n",
       "     See: https://github.com/scikit-learn/scikit-learn/issues/21755 */\n",
       "  display: inline-block !important;\n",
       "  position: relative;\n",
       "}\n",
       "\n",
       "#sk-container-id-1 div.sk-text-repr-fallback {\n",
       "  display: none;\n",
       "}\n",
       "\n",
       "div.sk-parallel-item,\n",
       "div.sk-serial,\n",
       "div.sk-item {\n",
       "  /* draw centered vertical line to link estimators */\n",
       "  background-image: linear-gradient(var(--sklearn-color-text-on-default-background), var(--sklearn-color-text-on-default-background));\n",
       "  background-size: 2px 100%;\n",
       "  background-repeat: no-repeat;\n",
       "  background-position: center center;\n",
       "}\n",
       "\n",
       "/* Parallel-specific style estimator block */\n",
       "\n",
       "#sk-container-id-1 div.sk-parallel-item::after {\n",
       "  content: \"\";\n",
       "  width: 100%;\n",
       "  border-bottom: 2px solid var(--sklearn-color-text-on-default-background);\n",
       "  flex-grow: 1;\n",
       "}\n",
       "\n",
       "#sk-container-id-1 div.sk-parallel {\n",
       "  display: flex;\n",
       "  align-items: stretch;\n",
       "  justify-content: center;\n",
       "  background-color: var(--sklearn-color-background);\n",
       "  position: relative;\n",
       "}\n",
       "\n",
       "#sk-container-id-1 div.sk-parallel-item {\n",
       "  display: flex;\n",
       "  flex-direction: column;\n",
       "}\n",
       "\n",
       "#sk-container-id-1 div.sk-parallel-item:first-child::after {\n",
       "  align-self: flex-end;\n",
       "  width: 50%;\n",
       "}\n",
       "\n",
       "#sk-container-id-1 div.sk-parallel-item:last-child::after {\n",
       "  align-self: flex-start;\n",
       "  width: 50%;\n",
       "}\n",
       "\n",
       "#sk-container-id-1 div.sk-parallel-item:only-child::after {\n",
       "  width: 0;\n",
       "}\n",
       "\n",
       "/* Serial-specific style estimator block */\n",
       "\n",
       "#sk-container-id-1 div.sk-serial {\n",
       "  display: flex;\n",
       "  flex-direction: column;\n",
       "  align-items: center;\n",
       "  background-color: var(--sklearn-color-background);\n",
       "  padding-right: 1em;\n",
       "  padding-left: 1em;\n",
       "}\n",
       "\n",
       "\n",
       "/* Toggleable style: style used for estimator/Pipeline/ColumnTransformer box that is\n",
       "clickable and can be expanded/collapsed.\n",
       "- Pipeline and ColumnTransformer use this feature and define the default style\n",
       "- Estimators will overwrite some part of the style using the `sk-estimator` class\n",
       "*/\n",
       "\n",
       "/* Pipeline and ColumnTransformer style (default) */\n",
       "\n",
       "#sk-container-id-1 div.sk-toggleable {\n",
       "  /* Default theme specific background. It is overwritten whether we have a\n",
       "  specific estimator or a Pipeline/ColumnTransformer */\n",
       "  background-color: var(--sklearn-color-background);\n",
       "}\n",
       "\n",
       "/* Toggleable label */\n",
       "#sk-container-id-1 label.sk-toggleable__label {\n",
       "  cursor: pointer;\n",
       "  display: block;\n",
       "  width: 100%;\n",
       "  margin-bottom: 0;\n",
       "  padding: 0.5em;\n",
       "  box-sizing: border-box;\n",
       "  text-align: center;\n",
       "}\n",
       "\n",
       "#sk-container-id-1 label.sk-toggleable__label-arrow:before {\n",
       "  /* Arrow on the left of the label */\n",
       "  content: \"▸\";\n",
       "  float: left;\n",
       "  margin-right: 0.25em;\n",
       "  color: var(--sklearn-color-icon);\n",
       "}\n",
       "\n",
       "#sk-container-id-1 label.sk-toggleable__label-arrow:hover:before {\n",
       "  color: var(--sklearn-color-text);\n",
       "}\n",
       "\n",
       "/* Toggleable content - dropdown */\n",
       "\n",
       "#sk-container-id-1 div.sk-toggleable__content {\n",
       "  max-height: 0;\n",
       "  max-width: 0;\n",
       "  overflow: hidden;\n",
       "  text-align: left;\n",
       "  /* unfitted */\n",
       "  background-color: var(--sklearn-color-unfitted-level-0);\n",
       "}\n",
       "\n",
       "#sk-container-id-1 div.sk-toggleable__content.fitted {\n",
       "  /* fitted */\n",
       "  background-color: var(--sklearn-color-fitted-level-0);\n",
       "}\n",
       "\n",
       "#sk-container-id-1 div.sk-toggleable__content pre {\n",
       "  margin: 0.2em;\n",
       "  border-radius: 0.25em;\n",
       "  color: var(--sklearn-color-text);\n",
       "  /* unfitted */\n",
       "  background-color: var(--sklearn-color-unfitted-level-0);\n",
       "}\n",
       "\n",
       "#sk-container-id-1 div.sk-toggleable__content.fitted pre {\n",
       "  /* unfitted */\n",
       "  background-color: var(--sklearn-color-fitted-level-0);\n",
       "}\n",
       "\n",
       "#sk-container-id-1 input.sk-toggleable__control:checked~div.sk-toggleable__content {\n",
       "  /* Expand drop-down */\n",
       "  max-height: 200px;\n",
       "  max-width: 100%;\n",
       "  overflow: auto;\n",
       "}\n",
       "\n",
       "#sk-container-id-1 input.sk-toggleable__control:checked~label.sk-toggleable__label-arrow:before {\n",
       "  content: \"▾\";\n",
       "}\n",
       "\n",
       "/* Pipeline/ColumnTransformer-specific style */\n",
       "\n",
       "#sk-container-id-1 div.sk-label input.sk-toggleable__control:checked~label.sk-toggleable__label {\n",
       "  color: var(--sklearn-color-text);\n",
       "  background-color: var(--sklearn-color-unfitted-level-2);\n",
       "}\n",
       "\n",
       "#sk-container-id-1 div.sk-label.fitted input.sk-toggleable__control:checked~label.sk-toggleable__label {\n",
       "  background-color: var(--sklearn-color-fitted-level-2);\n",
       "}\n",
       "\n",
       "/* Estimator-specific style */\n",
       "\n",
       "/* Colorize estimator box */\n",
       "#sk-container-id-1 div.sk-estimator input.sk-toggleable__control:checked~label.sk-toggleable__label {\n",
       "  /* unfitted */\n",
       "  background-color: var(--sklearn-color-unfitted-level-2);\n",
       "}\n",
       "\n",
       "#sk-container-id-1 div.sk-estimator.fitted input.sk-toggleable__control:checked~label.sk-toggleable__label {\n",
       "  /* fitted */\n",
       "  background-color: var(--sklearn-color-fitted-level-2);\n",
       "}\n",
       "\n",
       "#sk-container-id-1 div.sk-label label.sk-toggleable__label,\n",
       "#sk-container-id-1 div.sk-label label {\n",
       "  /* The background is the default theme color */\n",
       "  color: var(--sklearn-color-text-on-default-background);\n",
       "}\n",
       "\n",
       "/* On hover, darken the color of the background */\n",
       "#sk-container-id-1 div.sk-label:hover label.sk-toggleable__label {\n",
       "  color: var(--sklearn-color-text);\n",
       "  background-color: var(--sklearn-color-unfitted-level-2);\n",
       "}\n",
       "\n",
       "/* Label box, darken color on hover, fitted */\n",
       "#sk-container-id-1 div.sk-label.fitted:hover label.sk-toggleable__label.fitted {\n",
       "  color: var(--sklearn-color-text);\n",
       "  background-color: var(--sklearn-color-fitted-level-2);\n",
       "}\n",
       "\n",
       "/* Estimator label */\n",
       "\n",
       "#sk-container-id-1 div.sk-label label {\n",
       "  font-family: monospace;\n",
       "  font-weight: bold;\n",
       "  display: inline-block;\n",
       "  line-height: 1.2em;\n",
       "}\n",
       "\n",
       "#sk-container-id-1 div.sk-label-container {\n",
       "  text-align: center;\n",
       "}\n",
       "\n",
       "/* Estimator-specific */\n",
       "#sk-container-id-1 div.sk-estimator {\n",
       "  font-family: monospace;\n",
       "  border: 1px dotted var(--sklearn-color-border-box);\n",
       "  border-radius: 0.25em;\n",
       "  box-sizing: border-box;\n",
       "  margin-bottom: 0.5em;\n",
       "  /* unfitted */\n",
       "  background-color: var(--sklearn-color-unfitted-level-0);\n",
       "}\n",
       "\n",
       "#sk-container-id-1 div.sk-estimator.fitted {\n",
       "  /* fitted */\n",
       "  background-color: var(--sklearn-color-fitted-level-0);\n",
       "}\n",
       "\n",
       "/* on hover */\n",
       "#sk-container-id-1 div.sk-estimator:hover {\n",
       "  /* unfitted */\n",
       "  background-color: var(--sklearn-color-unfitted-level-2);\n",
       "}\n",
       "\n",
       "#sk-container-id-1 div.sk-estimator.fitted:hover {\n",
       "  /* fitted */\n",
       "  background-color: var(--sklearn-color-fitted-level-2);\n",
       "}\n",
       "\n",
       "/* Specification for estimator info (e.g. \"i\" and \"?\") */\n",
       "\n",
       "/* Common style for \"i\" and \"?\" */\n",
       "\n",
       ".sk-estimator-doc-link,\n",
       "a:link.sk-estimator-doc-link,\n",
       "a:visited.sk-estimator-doc-link {\n",
       "  float: right;\n",
       "  font-size: smaller;\n",
       "  line-height: 1em;\n",
       "  font-family: monospace;\n",
       "  background-color: var(--sklearn-color-background);\n",
       "  border-radius: 1em;\n",
       "  height: 1em;\n",
       "  width: 1em;\n",
       "  text-decoration: none !important;\n",
       "  margin-left: 1ex;\n",
       "  /* unfitted */\n",
       "  border: var(--sklearn-color-unfitted-level-1) 1pt solid;\n",
       "  color: var(--sklearn-color-unfitted-level-1);\n",
       "}\n",
       "\n",
       ".sk-estimator-doc-link.fitted,\n",
       "a:link.sk-estimator-doc-link.fitted,\n",
       "a:visited.sk-estimator-doc-link.fitted {\n",
       "  /* fitted */\n",
       "  border: var(--sklearn-color-fitted-level-1) 1pt solid;\n",
       "  color: var(--sklearn-color-fitted-level-1);\n",
       "}\n",
       "\n",
       "/* On hover */\n",
       "div.sk-estimator:hover .sk-estimator-doc-link:hover,\n",
       ".sk-estimator-doc-link:hover,\n",
       "div.sk-label-container:hover .sk-estimator-doc-link:hover,\n",
       ".sk-estimator-doc-link:hover {\n",
       "  /* unfitted */\n",
       "  background-color: var(--sklearn-color-unfitted-level-3);\n",
       "  color: var(--sklearn-color-background);\n",
       "  text-decoration: none;\n",
       "}\n",
       "\n",
       "div.sk-estimator.fitted:hover .sk-estimator-doc-link.fitted:hover,\n",
       ".sk-estimator-doc-link.fitted:hover,\n",
       "div.sk-label-container:hover .sk-estimator-doc-link.fitted:hover,\n",
       ".sk-estimator-doc-link.fitted:hover {\n",
       "  /* fitted */\n",
       "  background-color: var(--sklearn-color-fitted-level-3);\n",
       "  color: var(--sklearn-color-background);\n",
       "  text-decoration: none;\n",
       "}\n",
       "\n",
       "/* Span, style for the box shown on hovering the info icon */\n",
       ".sk-estimator-doc-link span {\n",
       "  display: none;\n",
       "  z-index: 9999;\n",
       "  position: relative;\n",
       "  font-weight: normal;\n",
       "  right: .2ex;\n",
       "  padding: .5ex;\n",
       "  margin: .5ex;\n",
       "  width: min-content;\n",
       "  min-width: 20ex;\n",
       "  max-width: 50ex;\n",
       "  color: var(--sklearn-color-text);\n",
       "  box-shadow: 2pt 2pt 4pt #999;\n",
       "  /* unfitted */\n",
       "  background: var(--sklearn-color-unfitted-level-0);\n",
       "  border: .5pt solid var(--sklearn-color-unfitted-level-3);\n",
       "}\n",
       "\n",
       ".sk-estimator-doc-link.fitted span {\n",
       "  /* fitted */\n",
       "  background: var(--sklearn-color-fitted-level-0);\n",
       "  border: var(--sklearn-color-fitted-level-3);\n",
       "}\n",
       "\n",
       ".sk-estimator-doc-link:hover span {\n",
       "  display: block;\n",
       "}\n",
       "\n",
       "/* \"?\"-specific style due to the `<a>` HTML tag */\n",
       "\n",
       "#sk-container-id-1 a.estimator_doc_link {\n",
       "  float: right;\n",
       "  font-size: 1rem;\n",
       "  line-height: 1em;\n",
       "  font-family: monospace;\n",
       "  background-color: var(--sklearn-color-background);\n",
       "  border-radius: 1rem;\n",
       "  height: 1rem;\n",
       "  width: 1rem;\n",
       "  text-decoration: none;\n",
       "  /* unfitted */\n",
       "  color: var(--sklearn-color-unfitted-level-1);\n",
       "  border: var(--sklearn-color-unfitted-level-1) 1pt solid;\n",
       "}\n",
       "\n",
       "#sk-container-id-1 a.estimator_doc_link.fitted {\n",
       "  /* fitted */\n",
       "  border: var(--sklearn-color-fitted-level-1) 1pt solid;\n",
       "  color: var(--sklearn-color-fitted-level-1);\n",
       "}\n",
       "\n",
       "/* On hover */\n",
       "#sk-container-id-1 a.estimator_doc_link:hover {\n",
       "  /* unfitted */\n",
       "  background-color: var(--sklearn-color-unfitted-level-3);\n",
       "  color: var(--sklearn-color-background);\n",
       "  text-decoration: none;\n",
       "}\n",
       "\n",
       "#sk-container-id-1 a.estimator_doc_link.fitted:hover {\n",
       "  /* fitted */\n",
       "  background-color: var(--sklearn-color-fitted-level-3);\n",
       "}\n",
       "</style><div id=\"sk-container-id-1\" class=\"sk-top-container\"><div class=\"sk-text-repr-fallback\"><pre>RandomForestClassifier()</pre><b>In a Jupyter environment, please rerun this cell to show the HTML representation or trust the notebook. <br />On GitHub, the HTML representation is unable to render, please try loading this page with nbviewer.org.</b></div><div class=\"sk-container\" hidden><div class=\"sk-item\"><div class=\"sk-estimator fitted sk-toggleable\"><input class=\"sk-toggleable__control sk-hidden--visually\" id=\"sk-estimator-id-1\" type=\"checkbox\" checked><label for=\"sk-estimator-id-1\" class=\"sk-toggleable__label fitted sk-toggleable__label-arrow fitted\">&nbsp;&nbsp;RandomForestClassifier<a class=\"sk-estimator-doc-link fitted\" rel=\"noreferrer\" target=\"_blank\" href=\"https://scikit-learn.org/1.4/modules/generated/sklearn.ensemble.RandomForestClassifier.html\">?<span>Documentation for RandomForestClassifier</span></a><span class=\"sk-estimator-doc-link fitted\">i<span>Fitted</span></span></label><div class=\"sk-toggleable__content fitted\"><pre>RandomForestClassifier()</pre></div> </div></div></div></div>"
      ],
      "text/plain": [
       "RandomForestClassifier()"
      ]
     },
     "execution_count": 18,
     "metadata": {},
     "output_type": "execute_result"
    }
   ],
   "source": [
    "print(\"Training the random forest...\")\n",
    "\n",
    "# Initialize a Random Forest classifier with 100 trees\n",
    "forest = RandomForestClassifier(n_estimators=100)\n",
    "\n",
    "# Fit the Random Forest classifier to the training set\n",
    "# using the bag of words as features and the sentiment labels as the response variable\n",
    "forest.fit(train_data_features, TrainDF[\"sentiment\"])\n",
    "\n",
    "# runtime ~ 30s"
   ]
  },
  {
   "cell_type": "code",
   "execution_count": 19,
   "metadata": {},
   "outputs": [
    {
     "name": "stdout",
     "output_type": "stream",
     "text": [
      "[1 1 0 ... 0 0 1]\n",
      "Number of predictions: 25000\n"
     ]
    }
   ],
   "source": [
    "# Make predictions on the training data using the trained Random Forest classifier\n",
    "predictions = forest.predict(train_data_features)\n",
    "\n",
    "# Print the predicted sentiment labels\n",
    "print(predictions)\n",
    "\n",
    "# Calculate the number of predictions made\n",
    "num_predictions = len(predictions)\n",
    "print(\"Number of predictions:\", num_predictions)\n",
    "\n",
    "# runtime ~ 2s"
   ]
  },
  {
   "cell_type": "code",
   "execution_count": 20,
   "metadata": {},
   "outputs": [
    {
     "name": "stdout",
     "output_type": "stream",
     "text": [
      "0        1\n",
      "1        1\n",
      "2        0\n",
      "3        0\n",
      "4        1\n",
      "        ..\n",
      "24995    0\n",
      "24996    0\n",
      "24997    0\n",
      "24998    0\n",
      "24999    1\n",
      "Name: sentiment, Length: 25000, dtype: int64\n"
     ]
    }
   ],
   "source": [
    "# Print the sentiment labels from the training data\n",
    "print(TrainDF['sentiment'])\n",
    "\n",
    "# runtime ~ 1s"
   ]
  },
  {
   "cell_type": "code",
   "execution_count": 21,
   "metadata": {},
   "outputs": [
    {
     "name": "stdout",
     "output_type": "stream",
     "text": [
      "(25000, 2)\n",
      "Cleaning and parsing the test set movie reviews...\n",
      "\n"
     ]
    },
    {
     "name": "stderr",
     "output_type": "stream",
     "text": [
      "C:\\Users\\craig\\AppData\\Local\\Temp\\ipykernel_7144\\442277322.py:7: MarkupResemblesLocatorWarning: The input looks more like a filename than markup. You may want to open this file and pass the filehandle into Beautiful Soup.\n",
      "  review_text = BeautifulSoup(raw_review).get_text()\n"
     ]
    },
    {
     "name": "stdout",
     "output_type": "stream",
     "text": [
      "Review 1000 of 25000\n",
      "\n",
      "Review 2000 of 25000\n",
      "\n",
      "Review 3000 of 25000\n",
      "\n",
      "Review 4000 of 25000\n",
      "\n",
      "Review 5000 of 25000\n",
      "\n",
      "Review 6000 of 25000\n",
      "\n",
      "Review 7000 of 25000\n",
      "\n",
      "Review 8000 of 25000\n",
      "\n",
      "Review 9000 of 25000\n",
      "\n",
      "Review 10000 of 25000\n",
      "\n",
      "Review 11000 of 25000\n",
      "\n",
      "Review 12000 of 25000\n",
      "\n",
      "Review 13000 of 25000\n",
      "\n",
      "Review 14000 of 25000\n",
      "\n",
      "Review 15000 of 25000\n",
      "\n",
      "Review 16000 of 25000\n",
      "\n",
      "Review 17000 of 25000\n",
      "\n",
      "Review 18000 of 25000\n",
      "\n",
      "Review 19000 of 25000\n",
      "\n",
      "Review 20000 of 25000\n",
      "\n",
      "Review 21000 of 25000\n",
      "\n",
      "Review 22000 of 25000\n",
      "\n",
      "Review 23000 of 25000\n",
      "\n",
      "Review 24000 of 25000\n",
      "\n",
      "Review 25000 of 25000\n",
      "\n"
     ]
    }
   ],
   "source": [
    "# Verify that there are 25,000 rows and 2 columns\n",
    "print(TestDF.shape)\n",
    "\n",
    "# Create an empty list and append the clean reviews one by one\n",
    "num_reviews = len(TestDF[\"review\"])\n",
    "clean_test_reviews = [] \n",
    "\n",
    "print(\"Cleaning and parsing the test set movie reviews...\\n\")\n",
    "for i in range(0,num_reviews):\n",
    "    if( (i+1) % 1000 == 0 ):\n",
    "        print(\"Review %d of %d\\n\" % (i+1, num_reviews))\n",
    "    clean_review = review_to_words( TestDF[\"review\"][i] )\n",
    "    clean_test_reviews.append( clean_review )\n",
    "\n",
    "# Get a bag of words for the test set, and convert to a numpy array\n",
    "test_data_features = vectorizer.transform(clean_test_reviews)\n",
    "test_data_features = test_data_features.toarray()\n",
    "\n",
    "# Use the random forest to make sentiment label predictions\n",
    "result = forest.predict(test_data_features)\n",
    "\n",
    "# Copy the results to a pandas dataframe with an \"id\" column and\n",
    "# a \"sentiment\" column\n",
    "output = pd.DataFrame( data={\"id\":TestDF[\"id\"], \"sentiment\":result} )\n",
    "\n",
    "# Use pandas to write the comma-separated output file\n",
    "output.to_csv( \"Bag_of_Words_model.csv\", index=False, quoting=3 )\n",
    "\n",
    "# runtime ~ 15s"
   ]
  },
  {
   "cell_type": "code",
   "execution_count": 22,
   "metadata": {},
   "outputs": [
    {
     "name": "stdout",
     "output_type": "stream",
     "text": [
      "Read 25000 labeled train reviews, 25000 labeled test reviews, and 50000 unlabeled reviews\n",
      "\n"
     ]
    }
   ],
   "source": [
    "# Verify the number of reviews that were read (100,000 in total)\n",
    "print(\"Read %d labeled train reviews, %d labeled test reviews, \" \\\n",
    " \"and %d unlabeled reviews\\n\" % (TrainDF[\"review\"].size,  \n",
    " TestDF[\"review\"].size, UnlabeledTrainDF[\"review\"].size ))\n",
    "\n",
    "# runtime ~ 1s"
   ]
  },
  {
   "cell_type": "markdown",
   "metadata": {},
   "source": [
    "## <ins>Oragnise sentences<ins>"
   ]
  },
  {
   "cell_type": "code",
   "execution_count": 23,
   "metadata": {},
   "outputs": [],
   "source": [
    "def review_to_wordlist(review, remove_stopwords=False):\n",
    "    # Function to convert a document to a sequence of words,\n",
    "    # optionally removing stop words. Returns a list of words.\n",
    "\n",
    "    # 1. Remove HTML tags from the review text\n",
    "    review_text = BeautifulSoup(review).get_text()\n",
    "\n",
    "    # 2. Remove non-alphabetic characters from the review text\n",
    "    review_text = re.sub(\"[^a-zA-Z]\", \" \", review_text)\n",
    "\n",
    "    # 3. Convert words to lowercase and split them into individual words\n",
    "    words = review_text.lower().split()\n",
    "\n",
    "    # 4. Optionally remove stop words (false by default)\n",
    "    if remove_stopwords:\n",
    "        # Get the set of English stopwords\n",
    "        stops = set(stopwords.words(\"english\"))\n",
    "        # Filter out stopwords from the list of words\n",
    "        words = [w for w in words if not w in stops]\n",
    "\n",
    "    # 5. Return a list of words\n",
    "    return words\n",
    "\n",
    "# runtime ~ 1s"
   ]
  },
  {
   "cell_type": "code",
   "execution_count": 24,
   "metadata": {},
   "outputs": [],
   "source": [
    "def review_to_sentences(review, tokenizer, remove_stopwords=False):\n",
    "    # Function to split a review into parsed sentences. Returns a \n",
    "    # list of sentences, where each sentence is a list of words\n",
    "    \n",
    "    # 1. Use the NLTK tokenizer to split the paragraph into sentences\n",
    "    raw_sentences = tokenizer.tokenize(review.strip())\n",
    "    \n",
    "    # Initialize an empty list to store the parsed sentences\n",
    "    sentences = []\n",
    "    \n",
    "    # 2. Loop over each sentence\n",
    "    for raw_sentence in raw_sentences:\n",
    "        # If a sentence is empty, skip it\n",
    "        if len(raw_sentence) > 0:\n",
    "            # 2.a. Call review_to_wordlist to convert the raw sentence into a list of words\n",
    "            words_in_sentence = review_to_wordlist(raw_sentence, remove_stopwords)\n",
    "            # 2.b. Append the list of words representing the sentence to the sentences list\n",
    "            sentences.append(words_in_sentence)\n",
    "            \n",
    "    # Return the list of sentences (each sentence is a list of words, so this returns a list of lists)\n",
    "    return sentences\n",
    "\n",
    "# runtime ~ 1s"
   ]
  },
  {
   "cell_type": "code",
   "execution_count": 25,
   "metadata": {},
   "outputs": [
    {
     "name": "stdout",
     "output_type": "stream",
     "text": [
      "Parsing sentences from training set...\n",
      "Parsing sentences from unlabeled set...\n"
     ]
    }
   ],
   "source": [
    "# Initialize an empty list to store the parsed sentences\n",
    "sentences = []\n",
    "\n",
    "# Print a message indicating the start of parsing sentences from the training set\n",
    "print(\"Parsing sentences from training set...\")\n",
    "\n",
    "# Suppress MarkupResemblesLocatorWarning\n",
    "with warnings.catch_warnings():\n",
    "    warnings.simplefilter(\"ignore\")\n",
    "    \n",
    "    # Iterate through each review in the training set\n",
    "    for review in TrainDF[\"review\"]:\n",
    "        # Call review_to_sentences function to parse the sentences from the review\n",
    "        # and append the resulting list of sentences to the 'sentences' list\n",
    "        sentences += review_to_sentences(review, tokenizer)\n",
    "\n",
    "# Print a message indicating the start of parsing sentences from the unlabeled set\n",
    "print(\"Parsing sentences from unlabeled set...\")\n",
    "\n",
    "# Suppress MarkupResemblesLocatorWarning\n",
    "with warnings.catch_warnings():\n",
    "    warnings.simplefilter(\"ignore\")\n",
    "    \n",
    "    # Iterate through each review in the unlabeled set\n",
    "    for review in UnlabeledTrainDF[\"review\"]:\n",
    "        # Call review_to_sentences function to parse the sentences from the review\n",
    "        # and append the resulting list of sentences to the 'sentences' list\n",
    "        sentences += review_to_sentences(review, tokenizer)\n",
    "\n",
    "# runtime ~ 1.5m"
   ]
  },
  {
   "cell_type": "code",
   "execution_count": 26,
   "metadata": {},
   "outputs": [
    {
     "name": "stdout",
     "output_type": "stream",
     "text": [
      "796172\n"
     ]
    }
   ],
   "source": [
    "# The following line prints the length of the list 'sentences'\n",
    "# assuming 'sentences' contains a list of strings representing sentences.\n",
    "print(len(sentences))\n",
    "\n",
    "# runtime ~ 1s"
   ]
  },
  {
   "cell_type": "code",
   "execution_count": 27,
   "metadata": {},
   "outputs": [
    {
     "name": "stdout",
     "output_type": "stream",
     "text": [
      "['with', 'all', 'this', 'stuff', 'going', 'down', 'at', 'the', 'moment', 'with', 'mj', 'i', 've', 'started', 'listening', 'to', 'his', 'music', 'watching', 'the', 'odd', 'documentary', 'here', 'and', 'there', 'watched', 'the', 'wiz', 'and', 'watched', 'moonwalker', 'again']\n"
     ]
    }
   ],
   "source": [
    "# This line prints the first element of the list 'sentences'.\n",
    "# It assumes that 'sentences' is a list containing strings representing sentences.\n",
    "print(sentences[0])\n",
    "\n",
    "# runtime ~ 1s"
   ]
  },
  {
   "cell_type": "markdown",
   "metadata": {},
   "source": [
    "## <ins>Train Word2Vec<ins>"
   ]
  },
  {
   "cell_type": "code",
   "execution_count": 28,
   "metadata": {},
   "outputs": [
    {
     "name": "stderr",
     "output_type": "stream",
     "text": [
      "2024-03-09 12:12:43,742 : INFO : collecting all words and their counts\n",
      "2024-03-09 12:12:43,743 : INFO : PROGRESS: at sentence #0, processed 0 words, keeping 0 word types\n",
      "2024-03-09 12:12:43,772 : INFO : PROGRESS: at sentence #10000, processed 225664 words, keeping 17775 word types\n",
      "2024-03-09 12:12:43,804 : INFO : PROGRESS: at sentence #20000, processed 451738 words, keeping 24945 word types\n",
      "2024-03-09 12:12:43,835 : INFO : PROGRESS: at sentence #30000, processed 670859 words, keeping 30027 word types\n",
      "2024-03-09 12:12:43,867 : INFO : PROGRESS: at sentence #40000, processed 896841 words, keeping 34335 word types\n",
      "2024-03-09 12:12:43,897 : INFO : PROGRESS: at sentence #50000, processed 1116082 words, keeping 37751 word types\n",
      "2024-03-09 12:12:43,926 : INFO : PROGRESS: at sentence #60000, processed 1337544 words, keeping 40711 word types\n"
     ]
    },
    {
     "name": "stdout",
     "output_type": "stream",
     "text": [
      "Training model...\n"
     ]
    },
    {
     "name": "stderr",
     "output_type": "stream",
     "text": [
      "2024-03-09 12:12:43,957 : INFO : PROGRESS: at sentence #70000, processed 1560307 words, keeping 43311 word types\n",
      "2024-03-09 12:12:43,987 : INFO : PROGRESS: at sentence #80000, processed 1779516 words, keeping 45707 word types\n",
      "2024-03-09 12:12:44,018 : INFO : PROGRESS: at sentence #90000, processed 2003714 words, keeping 48121 word types\n",
      "2024-03-09 12:12:44,048 : INFO : PROGRESS: at sentence #100000, processed 2225465 words, keeping 50190 word types\n",
      "2024-03-09 12:12:44,078 : INFO : PROGRESS: at sentence #110000, processed 2444323 words, keeping 52058 word types\n",
      "2024-03-09 12:12:44,108 : INFO : PROGRESS: at sentence #120000, processed 2666488 words, keeping 54098 word types\n",
      "2024-03-09 12:12:44,138 : INFO : PROGRESS: at sentence #130000, processed 2892315 words, keeping 55837 word types\n",
      "2024-03-09 12:12:44,168 : INFO : PROGRESS: at sentence #140000, processed 3104796 words, keeping 57324 word types\n",
      "2024-03-09 12:12:44,199 : INFO : PROGRESS: at sentence #150000, processed 3330432 words, keeping 59045 word types\n",
      "2024-03-09 12:12:44,228 : INFO : PROGRESS: at sentence #160000, processed 3552466 words, keeping 60581 word types\n",
      "2024-03-09 12:12:44,258 : INFO : PROGRESS: at sentence #170000, processed 3776048 words, keeping 62050 word types\n",
      "2024-03-09 12:12:44,288 : INFO : PROGRESS: at sentence #180000, processed 3996237 words, keeping 63483 word types\n",
      "2024-03-09 12:12:44,318 : INFO : PROGRESS: at sentence #190000, processed 4221288 words, keeping 64775 word types\n",
      "2024-03-09 12:12:44,348 : INFO : PROGRESS: at sentence #200000, processed 4445973 words, keeping 66070 word types\n",
      "2024-03-09 12:12:44,378 : INFO : PROGRESS: at sentence #210000, processed 4666511 words, keeping 67367 word types\n",
      "2024-03-09 12:12:44,409 : INFO : PROGRESS: at sentence #220000, processed 4892037 words, keeping 68686 word types\n",
      "2024-03-09 12:12:44,438 : INFO : PROGRESS: at sentence #230000, processed 5113881 words, keeping 69935 word types\n",
      "2024-03-09 12:12:44,469 : INFO : PROGRESS: at sentence #240000, processed 5340847 words, keeping 71144 word types\n",
      "2024-03-09 12:12:44,499 : INFO : PROGRESS: at sentence #250000, processed 5555463 words, keeping 72333 word types\n",
      "2024-03-09 12:12:44,528 : INFO : PROGRESS: at sentence #260000, processed 5775304 words, keeping 73466 word types\n",
      "2024-03-09 12:12:44,558 : INFO : PROGRESS: at sentence #270000, processed 5995572 words, keeping 74740 word types\n",
      "2024-03-09 12:12:44,589 : INFO : PROGRESS: at sentence #280000, processed 6220911 words, keeping 76318 word types\n",
      "2024-03-09 12:12:44,623 : INFO : PROGRESS: at sentence #290000, processed 6443523 words, keeping 77787 word types\n",
      "2024-03-09 12:12:44,655 : INFO : PROGRESS: at sentence #300000, processed 6668258 words, keeping 79142 word types\n",
      "2024-03-09 12:12:44,686 : INFO : PROGRESS: at sentence #310000, processed 6892662 words, keeping 80431 word types\n",
      "2024-03-09 12:12:44,717 : INFO : PROGRESS: at sentence #320000, processed 7118969 words, keeping 81794 word types\n",
      "2024-03-09 12:12:44,748 : INFO : PROGRESS: at sentence #330000, processed 7340486 words, keeping 83006 word types\n",
      "2024-03-09 12:12:44,780 : INFO : PROGRESS: at sentence #340000, processed 7569986 words, keeping 84252 word types\n",
      "2024-03-09 12:12:44,811 : INFO : PROGRESS: at sentence #350000, processed 7792927 words, keeping 85407 word types\n",
      "2024-03-09 12:12:44,841 : INFO : PROGRESS: at sentence #360000, processed 8012526 words, keeping 86567 word types\n",
      "2024-03-09 12:12:44,875 : INFO : PROGRESS: at sentence #370000, processed 8239772 words, keeping 87663 word types\n",
      "2024-03-09 12:12:44,906 : INFO : PROGRESS: at sentence #380000, processed 8465827 words, keeping 88849 word types\n",
      "2024-03-09 12:12:44,939 : INFO : PROGRESS: at sentence #390000, processed 8694607 words, keeping 89883 word types\n",
      "2024-03-09 12:12:44,974 : INFO : PROGRESS: at sentence #400000, processed 8917820 words, keeping 90882 word types\n",
      "2024-03-09 12:12:45,005 : INFO : PROGRESS: at sentence #410000, processed 9138504 words, keeping 91859 word types\n",
      "2024-03-09 12:12:45,035 : INFO : PROGRESS: at sentence #420000, processed 9358474 words, keeping 92880 word types\n",
      "2024-03-09 12:12:45,067 : INFO : PROGRESS: at sentence #430000, processed 9586958 words, keeping 93909 word types\n",
      "2024-03-09 12:12:45,098 : INFO : PROGRESS: at sentence #440000, processed 9812576 words, keeping 94853 word types\n",
      "2024-03-09 12:12:45,129 : INFO : PROGRESS: at sentence #450000, processed 10036719 words, keeping 95995 word types\n",
      "2024-03-09 12:12:45,161 : INFO : PROGRESS: at sentence #460000, processed 10269931 words, keeping 97064 word types\n",
      "2024-03-09 12:12:45,192 : INFO : PROGRESS: at sentence #470000, processed 10496262 words, keeping 97885 word types\n",
      "2024-03-09 12:12:45,222 : INFO : PROGRESS: at sentence #480000, processed 10717170 words, keeping 98809 word types\n",
      "2024-03-09 12:12:45,253 : INFO : PROGRESS: at sentence #490000, processed 10943335 words, keeping 99835 word types\n",
      "2024-03-09 12:12:45,284 : INFO : PROGRESS: at sentence #500000, processed 11165141 words, keeping 100726 word types\n",
      "2024-03-09 12:12:45,314 : INFO : PROGRESS: at sentence #510000, processed 11390498 words, keeping 101672 word types\n",
      "2024-03-09 12:12:45,346 : INFO : PROGRESS: at sentence #520000, processed 11613511 words, keeping 102557 word types\n",
      "2024-03-09 12:12:45,377 : INFO : PROGRESS: at sentence #530000, processed 11838774 words, keeping 103374 word types\n",
      "2024-03-09 12:12:45,407 : INFO : PROGRESS: at sentence #540000, processed 12062185 words, keeping 104231 word types\n",
      "2024-03-09 12:12:45,437 : INFO : PROGRESS: at sentence #550000, processed 12286959 words, keeping 105098 word types\n",
      "2024-03-09 12:12:45,467 : INFO : PROGRESS: at sentence #560000, processed 12509034 words, keeping 105971 word types\n",
      "2024-03-09 12:12:45,498 : INFO : PROGRESS: at sentence #570000, processed 12736827 words, keeping 106757 word types\n",
      "2024-03-09 12:12:45,528 : INFO : PROGRESS: at sentence #580000, processed 12958427 words, keeping 107611 word types\n",
      "2024-03-09 12:12:45,559 : INFO : PROGRESS: at sentence #590000, processed 13184325 words, keeping 108468 word types\n",
      "2024-03-09 12:12:45,589 : INFO : PROGRESS: at sentence #600000, processed 13406551 words, keeping 109189 word types\n",
      "2024-03-09 12:12:45,619 : INFO : PROGRESS: at sentence #610000, processed 13628198 words, keeping 110055 word types\n",
      "2024-03-09 12:12:45,650 : INFO : PROGRESS: at sentence #620000, processed 13852588 words, keeping 110805 word types\n",
      "2024-03-09 12:12:45,680 : INFO : PROGRESS: at sentence #630000, processed 14075901 words, keeping 111573 word types\n",
      "2024-03-09 12:12:45,710 : INFO : PROGRESS: at sentence #640000, processed 14298046 words, keeping 112386 word types\n",
      "2024-03-09 12:12:45,741 : INFO : PROGRESS: at sentence #650000, processed 14522874 words, keeping 113151 word types\n",
      "2024-03-09 12:12:45,774 : INFO : PROGRESS: at sentence #660000, processed 14745445 words, keeping 113890 word types\n",
      "2024-03-09 12:12:45,805 : INFO : PROGRESS: at sentence #670000, processed 14970569 words, keeping 114613 word types\n",
      "2024-03-09 12:12:45,836 : INFO : PROGRESS: at sentence #680000, processed 15194625 words, keeping 115331 word types\n",
      "2024-03-09 12:12:45,866 : INFO : PROGRESS: at sentence #690000, processed 15416773 words, keeping 116099 word types\n",
      "2024-03-09 12:12:45,897 : INFO : PROGRESS: at sentence #700000, processed 15645695 words, keeping 116902 word types\n",
      "2024-03-09 12:12:45,927 : INFO : PROGRESS: at sentence #710000, processed 15865815 words, keeping 117541 word types\n",
      "2024-03-09 12:12:45,958 : INFO : PROGRESS: at sentence #720000, processed 16093342 words, keeping 118183 word types\n",
      "2024-03-09 12:12:45,988 : INFO : PROGRESS: at sentence #730000, processed 16316787 words, keeping 118912 word types\n",
      "2024-03-09 12:12:46,018 : INFO : PROGRESS: at sentence #740000, processed 16539147 words, keeping 119618 word types\n",
      "2024-03-09 12:12:46,049 : INFO : PROGRESS: at sentence #750000, processed 16758552 words, keeping 120264 word types\n",
      "2024-03-09 12:12:46,079 : INFO : PROGRESS: at sentence #760000, processed 16977111 words, keeping 120888 word types\n",
      "2024-03-09 12:12:46,110 : INFO : PROGRESS: at sentence #770000, processed 17203259 words, keeping 121656 word types\n",
      "2024-03-09 12:12:46,142 : INFO : PROGRESS: at sentence #780000, processed 17432844 words, keeping 122358 word types\n",
      "2024-03-09 12:12:46,174 : INFO : PROGRESS: at sentence #790000, processed 17660151 words, keeping 123033 word types\n",
      "2024-03-09 12:12:46,193 : INFO : collected 123504 word types from a corpus of 17798270 raw words and 796172 sentences\n",
      "2024-03-09 12:12:46,194 : INFO : Creating a fresh vocabulary\n",
      "2024-03-09 12:12:46,242 : INFO : Word2Vec lifecycle event {'msg': 'effective_min_count=40 retains 16490 unique words (13.35% of original 123504, drops 107014)', 'datetime': '2024-03-09T12:12:46.242957', 'gensim': '4.3.2', 'python': '3.11.8 (tags/v3.11.8:db85d51, Feb  6 2024, 22:03:32) [MSC v.1937 64 bit (AMD64)]', 'platform': 'Windows-10-10.0.19045-SP0', 'event': 'prepare_vocab'}\n",
      "2024-03-09 12:12:46,243 : INFO : Word2Vec lifecycle event {'msg': 'effective_min_count=40 leaves 17239125 word corpus (96.86% of original 17798270, drops 559145)', 'datetime': '2024-03-09T12:12:46.243958', 'gensim': '4.3.2', 'python': '3.11.8 (tags/v3.11.8:db85d51, Feb  6 2024, 22:03:32) [MSC v.1937 64 bit (AMD64)]', 'platform': 'Windows-10-10.0.19045-SP0', 'event': 'prepare_vocab'}\n",
      "2024-03-09 12:12:46,288 : INFO : deleting the raw counts dictionary of 123504 items\n",
      "2024-03-09 12:12:46,291 : INFO : sample=0.001 downsamples 48 most-common words\n",
      "2024-03-09 12:12:46,291 : INFO : Word2Vec lifecycle event {'msg': 'downsampling leaves estimated 12749798.434354488 word corpus (74.0%% of prior 17239125)', 'datetime': '2024-03-09T12:12:46.291001', 'gensim': '4.3.2', 'python': '3.11.8 (tags/v3.11.8:db85d51, Feb  6 2024, 22:03:32) [MSC v.1937 64 bit (AMD64)]', 'platform': 'Windows-10-10.0.19045-SP0', 'event': 'prepare_vocab'}\n",
      "2024-03-09 12:12:46,363 : INFO : estimated required memory for 16490 words and 300 dimensions: 47821000 bytes\n",
      "2024-03-09 12:12:46,363 : INFO : resetting layer weights\n",
      "2024-03-09 12:12:46,380 : INFO : Word2Vec lifecycle event {'update': False, 'trim_rule': 'None', 'datetime': '2024-03-09T12:12:46.380082', 'gensim': '4.3.2', 'python': '3.11.8 (tags/v3.11.8:db85d51, Feb  6 2024, 22:03:32) [MSC v.1937 64 bit (AMD64)]', 'platform': 'Windows-10-10.0.19045-SP0', 'event': 'build_vocab'}\n",
      "2024-03-09 12:12:46,380 : INFO : Word2Vec lifecycle event {'msg': 'training model with 4 workers on 16490 vocabulary and 300 features, using sg=0 hs=0 sample=0.001 negative=5 window=10 shrink_windows=True', 'datetime': '2024-03-09T12:12:46.380082', 'gensim': '4.3.2', 'python': '3.11.8 (tags/v3.11.8:db85d51, Feb  6 2024, 22:03:32) [MSC v.1937 64 bit (AMD64)]', 'platform': 'Windows-10-10.0.19045-SP0', 'event': 'train'}\n",
      "2024-03-09 12:12:47,384 : INFO : EPOCH 0 - PROGRESS: at 17.18% examples, 2174033 words/s, in_qsize 7, out_qsize 0\n",
      "2024-03-09 12:12:48,386 : INFO : EPOCH 0 - PROGRESS: at 34.44% examples, 2177797 words/s, in_qsize 7, out_qsize 0\n",
      "2024-03-09 12:12:49,388 : INFO : EPOCH 0 - PROGRESS: at 51.08% examples, 2160812 words/s, in_qsize 7, out_qsize 0\n",
      "2024-03-09 12:12:50,390 : INFO : EPOCH 0 - PROGRESS: at 67.98% examples, 2161036 words/s, in_qsize 7, out_qsize 0\n",
      "2024-03-09 12:12:51,392 : INFO : EPOCH 0 - PROGRESS: at 85.11% examples, 2165778 words/s, in_qsize 7, out_qsize 0\n",
      "2024-03-09 12:12:52,253 : INFO : EPOCH 0: training on 17798270 raw words (12749743 effective words) took 5.9s, 2172167 effective words/s\n",
      "2024-03-09 12:12:53,262 : INFO : EPOCH 1 - PROGRESS: at 17.06% examples, 2149400 words/s, in_qsize 7, out_qsize 0\n",
      "2024-03-09 12:12:54,263 : INFO : EPOCH 1 - PROGRESS: at 34.49% examples, 2177436 words/s, in_qsize 7, out_qsize 0\n",
      "2024-03-09 12:12:55,267 : INFO : EPOCH 1 - PROGRESS: at 51.76% examples, 2185043 words/s, in_qsize 7, out_qsize 0\n",
      "2024-03-09 12:12:56,270 : INFO : EPOCH 1 - PROGRESS: at 68.98% examples, 2189938 words/s, in_qsize 7, out_qsize 0\n",
      "2024-03-09 12:12:57,271 : INFO : EPOCH 1 - PROGRESS: at 86.48% examples, 2197569 words/s, in_qsize 7, out_qsize 0\n",
      "2024-03-09 12:12:58,044 : INFO : EPOCH 1: training on 17798270 raw words (12749814 effective words) took 5.8s, 2202855 effective words/s\n",
      "2024-03-09 12:12:59,049 : INFO : EPOCH 2 - PROGRESS: at 17.80% examples, 2249653 words/s, in_qsize 7, out_qsize 0\n",
      "2024-03-09 12:13:00,050 : INFO : EPOCH 2 - PROGRESS: at 35.73% examples, 2260834 words/s, in_qsize 7, out_qsize 0\n",
      "2024-03-09 12:13:01,050 : INFO : EPOCH 2 - PROGRESS: at 53.49% examples, 2264264 words/s, in_qsize 7, out_qsize 0\n",
      "2024-03-09 12:13:02,052 : INFO : EPOCH 2 - PROGRESS: at 71.44% examples, 2273131 words/s, in_qsize 7, out_qsize 0\n",
      "2024-03-09 12:13:03,053 : INFO : EPOCH 2 - PROGRESS: at 89.16% examples, 2270070 words/s, in_qsize 7, out_qsize 0\n",
      "2024-03-09 12:13:03,653 : INFO : EPOCH 2: training on 17798270 raw words (12749375 effective words) took 5.6s, 2274327 effective words/s\n",
      "2024-03-09 12:13:04,661 : INFO : EPOCH 3 - PROGRESS: at 17.85% examples, 2250958 words/s, in_qsize 7, out_qsize 0\n",
      "2024-03-09 12:13:05,663 : INFO : EPOCH 3 - PROGRESS: at 35.33% examples, 2230865 words/s, in_qsize 7, out_qsize 0\n",
      "2024-03-09 12:13:06,665 : INFO : EPOCH 3 - PROGRESS: at 53.00% examples, 2239414 words/s, in_qsize 7, out_qsize 0\n",
      "2024-03-09 12:13:07,665 : INFO : EPOCH 3 - PROGRESS: at 70.60% examples, 2244450 words/s, in_qsize 7, out_qsize 0\n",
      "2024-03-09 12:13:08,665 : INFO : EPOCH 3 - PROGRESS: at 88.08% examples, 2241437 words/s, in_qsize 7, out_qsize 0\n",
      "2024-03-09 12:13:09,324 : INFO : EPOCH 3: training on 17798270 raw words (12750511 effective words) took 5.7s, 2250279 effective words/s\n",
      "2024-03-09 12:13:10,327 : INFO : EPOCH 4 - PROGRESS: at 18.30% examples, 2316816 words/s, in_qsize 7, out_qsize 0\n",
      "2024-03-09 12:13:11,329 : INFO : EPOCH 4 - PROGRESS: at 36.79% examples, 2329130 words/s, in_qsize 7, out_qsize 0\n",
      "2024-03-09 12:13:12,331 : INFO : EPOCH 4 - PROGRESS: at 55.10% examples, 2332996 words/s, in_qsize 7, out_qsize 0\n",
      "2024-03-09 12:13:13,332 : INFO : EPOCH 4 - PROGRESS: at 73.39% examples, 2335710 words/s, in_qsize 7, out_qsize 0\n",
      "2024-03-09 12:13:14,334 : INFO : EPOCH 4 - PROGRESS: at 91.82% examples, 2337761 words/s, in_qsize 7, out_qsize 0\n",
      "2024-03-09 12:13:14,797 : INFO : EPOCH 4: training on 17798270 raw words (12749697 effective words) took 5.5s, 2330911 effective words/s\n",
      "2024-03-09 12:13:14,797 : INFO : Word2Vec lifecycle event {'msg': 'training on 88991350 raw words (63749140 effective words) took 28.4s, 2243320 effective words/s', 'datetime': '2024-03-09T12:13:14.797380', 'gensim': '4.3.2', 'python': '3.11.8 (tags/v3.11.8:db85d51, Feb  6 2024, 22:03:32) [MSC v.1937 64 bit (AMD64)]', 'platform': 'Windows-10-10.0.19045-SP0', 'event': 'train'}\n",
      "2024-03-09 12:13:14,798 : INFO : Word2Vec lifecycle event {'params': 'Word2Vec<vocab=16490, vector_size=300, alpha=0.025>', 'datetime': '2024-03-09T12:13:14.798381', 'gensim': '4.3.2', 'python': '3.11.8 (tags/v3.11.8:db85d51, Feb  6 2024, 22:03:32) [MSC v.1937 64 bit (AMD64)]', 'platform': 'Windows-10-10.0.19045-SP0', 'event': 'created'}\n",
      "C:\\Users\\craig\\AppData\\Local\\Temp\\ipykernel_7144\\3117441908.py:17: DeprecationWarning: Call to deprecated `init_sims` (Gensim 4.0.0 implemented internal optimizations that make calls to init_sims() unnecessary. init_sims() is now obsoleted and will be completely removed in future versions. See https://github.com/RaRe-Technologies/gensim/wiki/Migrating-from-Gensim-3.x-to-4).\n",
      "  model.init_sims(replace=True)\n",
      "2024-03-09 12:13:14,808 : WARNING : destructive init_sims(replace=True) deprecated & no longer required for space-efficiency\n",
      "2024-03-09 12:13:14,811 : INFO : Word2Vec lifecycle event {'fname_or_handle': '300features_40minwords_10context', 'separately': 'None', 'sep_limit': 10485760, 'ignore': frozenset(), 'datetime': '2024-03-09T12:13:14.811394', 'gensim': '4.3.2', 'python': '3.11.8 (tags/v3.11.8:db85d51, Feb  6 2024, 22:03:32) [MSC v.1937 64 bit (AMD64)]', 'platform': 'Windows-10-10.0.19045-SP0', 'event': 'saving'}\n",
      "2024-03-09 12:13:14,811 : INFO : not storing attribute cum_table\n",
      "2024-03-09 12:13:14,875 : INFO : saved 300features_40minwords_10context\n"
     ]
    }
   ],
   "source": [
    "# Configure logging to display nice output messages for Word2Vec\n",
    "logging.basicConfig(format='%(asctime)s : %(levelname)s : %(message)s', level=logging.INFO)\n",
    "\n",
    "# Set values for various parameters\n",
    "num_features = 300    # Dimensionality of word vectors\n",
    "min_word_count = 40   # Minimum frequency threshold for words to be included in the model\n",
    "num_workers = 4       # Number of threads to run in parallel\n",
    "context = 10          # Size of the window around the target word to consider\n",
    "downsampling = 1e-3   # Downsample setting for frequent words\n",
    "\n",
    "# Train the Word2Vec model using the provided sentences\n",
    "print(\"Training model...\")\n",
    "model = Word2Vec(sentences, workers=num_workers, vector_size=num_features, \n",
    "                          min_count=min_word_count, window=context, sample=downsampling)\n",
    "\n",
    "# If further training is not expected, calling init_sims makes the model more memory-efficient\n",
    "model.init_sims(replace=True)\n",
    "\n",
    "# Give the model a meaningful name and save it for later use\n",
    "model_name = \"300features_40minwords_10context\"\n",
    "model.save(model_name)\n",
    "\n",
    "# runtime ~ 30s"
   ]
  },
  {
   "cell_type": "code",
   "execution_count": 29,
   "metadata": {},
   "outputs": [
    {
     "name": "stdout",
     "output_type": "stream",
     "text": [
      "The odd one out is: kitchen\n"
     ]
    }
   ],
   "source": [
    "# Tokenize the words to create a list of strings\n",
    "words = \"man woman child kitchen\".split()\n",
    "\n",
    "# Find the word that doesn't match using the Word2Vec model\n",
    "odd_one_out = model.wv.doesnt_match(words)\n",
    "\n",
    "# Print the odd word found\n",
    "print(\"The odd one out is:\", odd_one_out)\n",
    "\n",
    "# Find the word that doesn't match in a different set of words\n",
    "odd_one_out = model.wv.doesnt_match(\"france england germany berlin\".split())\n",
    "\n",
    "# runtime ~ 1s"
   ]
  },
  {
   "cell_type": "code",
   "execution_count": 30,
   "metadata": {},
   "outputs": [
    {
     "name": "stdout",
     "output_type": "stream",
     "text": [
      "Words most similar to 'awful': [('terrible', 0.7594439387321472), ('atrocious', 0.7511518597602844), ('horrible', 0.7340344190597534), ('dreadful', 0.7099202871322632), ('abysmal', 0.7090114951133728), ('horrendous', 0.6771639585494995), ('horrid', 0.6590012311935425), ('appalling', 0.6523253917694092), ('lousy', 0.6295070052146912), ('laughable', 0.6096417307853699)]\n"
     ]
    }
   ],
   "source": [
    "# Find words most similar to the word \"awful\" using the Word2Vec model\n",
    "similar_words = model.wv.most_similar(\"awful\")\n",
    "\n",
    "# Print the words most similar to \"awful\"\n",
    "print(\"Words most similar to 'awful':\", similar_words)\n",
    "\n",
    "# runtime ~ 1s"
   ]
  },
  {
   "cell_type": "code",
   "execution_count": 31,
   "metadata": {},
   "outputs": [
    {
     "name": "stderr",
     "output_type": "stream",
     "text": [
      "2024-03-09 12:13:14,896 : INFO : loading Word2Vec object from 300features_40minwords_10context\n",
      "2024-03-09 12:13:14,918 : INFO : loading wv recursively from 300features_40minwords_10context.wv.* with mmap=None\n",
      "2024-03-09 12:13:14,918 : INFO : setting ignored attribute cum_table to None\n",
      "2024-03-09 12:13:14,989 : INFO : Word2Vec lifecycle event {'fname': '300features_40minwords_10context', 'datetime': '2024-03-09T12:13:14.989328', 'gensim': '4.3.2', 'python': '3.11.8 (tags/v3.11.8:db85d51, Feb  6 2024, 22:03:32) [MSC v.1937 64 bit (AMD64)]', 'platform': 'Windows-10-10.0.19045-SP0', 'event': 'loaded'}\n"
     ]
    }
   ],
   "source": [
    "# Load the previously trained Word2Vec model\n",
    "model = Word2Vec.load(\"300features_40minwords_10context\")\n",
    "\n",
    "# The loaded model can now be used for various word embedding tasks\n",
    "\n",
    "# runtime ~ 1s"
   ]
  },
  {
   "cell_type": "code",
   "execution_count": 32,
   "metadata": {},
   "outputs": [
    {
     "name": "stdout",
     "output_type": "stream",
     "text": [
      "Type of vectors in the Word2Vec model: <class 'numpy.ndarray'>\n"
     ]
    }
   ],
   "source": [
    "# Check the type of the vectors in the Word2Vec model\n",
    "vector_type = type(model.wv.vectors)\n",
    "\n",
    "# Print the type of vectors\n",
    "print(\"Type of vectors in the Word2Vec model:\", vector_type)\n",
    "\n",
    "# runtime ~ 1s"
   ]
  },
  {
   "cell_type": "code",
   "execution_count": 33,
   "metadata": {},
   "outputs": [
    {
     "name": "stdout",
     "output_type": "stream",
     "text": [
      "Shape of vectors in the Word2Vec model: (16490, 300)\n"
     ]
    }
   ],
   "source": [
    "# Retrieve the shape of the vectors in the Word2Vec model\n",
    "vector_shape = model.wv.vectors.shape\n",
    "\n",
    "# Print the shape of the vectors\n",
    "print(\"Shape of vectors in the Word2Vec model:\", vector_shape)\n",
    "\n",
    "# runtime ~ 1s"
   ]
  },
  {
   "cell_type": "code",
   "execution_count": 34,
   "metadata": {},
   "outputs": [
    {
     "name": "stdout",
     "output_type": "stream",
     "text": [
      "Word vector for 'flower': [-4.67801839e-02  2.46725641e-02 -3.88885811e-02  9.31036484e-04\n",
      " -3.27227712e-02 -3.89708541e-02  3.58093753e-02  1.58803850e-01\n",
      "  9.00682062e-02 -1.42551050e-01 -9.26013105e-03  1.01140462e-01\n",
      "  3.56683768e-02  6.61564171e-02 -3.15442085e-02  2.56157992e-03\n",
      " -5.54324538e-02 -1.54800370e-01 -1.96601432e-02 -3.44443358e-02\n",
      " -2.85147205e-02  1.00238603e-02  1.46239682e-03  3.58479582e-02\n",
      "  9.72705036e-02 -1.22196339e-02 -2.12538429e-02 -2.02547084e-03\n",
      " -2.26993505e-02 -1.74752902e-02  7.60775059e-02 -2.54868306e-02\n",
      " -1.40028326e-02 -4.49804887e-02  3.33962590e-02  4.99773398e-02\n",
      "  4.48636748e-02 -9.91472825e-02 -3.03907115e-02  4.50918674e-02\n",
      " -2.49587316e-02  4.38998118e-02  1.68409869e-02 -9.67370495e-02\n",
      " -6.94372579e-02  6.76694699e-03  5.53335324e-02  4.65603992e-02\n",
      " -4.41496894e-02  1.28011748e-01  7.76713938e-02  1.13603055e-01\n",
      " -9.23594609e-02  8.42753518e-03 -2.86817774e-02  8.05612877e-02\n",
      "  7.24648684e-02  5.56198172e-02 -4.49642949e-02  1.50323641e-02\n",
      " -2.08325446e-01  8.60464107e-03  1.60735380e-02  4.89301272e-02\n",
      " -8.79721642e-02  5.95282093e-02 -8.91880915e-02  6.03378145e-03\n",
      " -5.62780313e-02 -8.06039944e-03 -5.02536132e-04  5.21186553e-02\n",
      "  6.14591688e-02 -1.15522258e-01  2.91165113e-02 -2.27369014e-02\n",
      "  3.98057289e-02  8.16563889e-03 -7.31542408e-02  8.71595219e-02\n",
      " -1.21570658e-03 -9.73050296e-03  1.52946105e-02  2.17340812e-01\n",
      "  6.54162318e-02 -6.87278137e-02 -1.54585801e-02  6.38617128e-02\n",
      " -2.40645185e-02  6.19254261e-02 -6.77681044e-02  5.54556996e-02\n",
      " -3.64958718e-02  3.56739061e-03  5.83569577e-04 -9.15927663e-02\n",
      "  2.30270419e-02  8.64017196e-03 -8.67917910e-02  5.67441061e-02\n",
      "  5.84018081e-02  1.07568376e-01  6.37899414e-02 -3.35310437e-02\n",
      "  1.78914145e-01 -2.91387197e-02 -5.83084226e-02 -1.84663739e-02\n",
      "  4.23534885e-02 -3.92133072e-02  6.64970502e-02 -2.03850213e-03\n",
      "  6.37210831e-02 -3.50428582e-03  5.51694892e-02 -5.69307897e-03\n",
      " -3.00175813e-03  7.74623528e-02 -3.45981382e-02 -5.63531369e-02\n",
      "  4.10475396e-02  3.02332770e-02 -4.08137552e-02 -4.36333828e-02\n",
      " -4.96400446e-02 -3.74075025e-02  9.90183908e-04 -3.26585062e-02\n",
      "  3.78309488e-02  3.15596536e-02 -4.30764332e-02  3.47815678e-02\n",
      " -3.86065291e-03 -8.06610063e-02 -5.65611608e-02 -7.13727921e-02\n",
      " -1.21580167e-02  3.37939374e-02 -6.67093135e-03  6.86828606e-03\n",
      " -2.22837795e-02 -1.35147357e-02 -1.67924780e-02  1.44222630e-02\n",
      "  5.62328808e-02 -8.79919250e-03 -5.35437278e-02 -3.96914072e-02\n",
      "  5.77592291e-02  7.62139037e-02  4.88986932e-02 -2.24137455e-02\n",
      " -1.50267839e-01  2.86602750e-02  3.08472253e-02 -4.57958803e-02\n",
      " -7.38957748e-02 -6.03788858e-03  6.97102491e-03  9.19263586e-02\n",
      "  3.99164762e-03 -4.15932536e-02 -1.38415778e-02  1.31298229e-01\n",
      " -2.58373450e-02  3.70632322e-03  7.17639178e-02 -8.05057287e-02\n",
      " -3.47481109e-02  3.92795503e-02  3.65766144e-04  1.80271994e-02\n",
      " -2.17168108e-02 -7.81139880e-02 -9.87765193e-02 -5.42828590e-02\n",
      "  5.70370555e-02 -1.01090129e-02 -7.37088174e-02  1.65944546e-02\n",
      "  2.96690464e-02  6.72143623e-02  3.52650024e-02 -5.97760379e-02\n",
      "  4.99288477e-02 -3.40798907e-02  2.50602495e-02 -3.97406928e-02\n",
      "  1.10390782e-01  3.74272728e-04  2.92464476e-02 -8.36074445e-03\n",
      "  2.28799637e-02  1.67744178e-02  1.71342329e-03  7.26860836e-02\n",
      "  1.15672033e-02  7.16707110e-03  1.11061007e-01 -6.04230799e-02\n",
      " -2.97819972e-02  7.97422826e-02  7.94637501e-02 -5.21213077e-02\n",
      " -4.90809558e-03  3.35501842e-02  3.48504446e-02  4.45431471e-02\n",
      "  3.27554136e-03  3.20963748e-02 -1.51340023e-03 -4.70238067e-02\n",
      "  1.41166486e-02 -2.42183656e-02  2.78740153e-02  3.81193869e-02\n",
      "  2.25476455e-03 -1.27509966e-01  3.13751362e-02 -2.97022294e-02\n",
      "  1.13868572e-01  1.07584975e-03 -2.49084681e-02 -2.03040577e-02\n",
      " -7.74721429e-02 -8.25637300e-03 -1.12776901e-03 -5.67838326e-02\n",
      " -5.02892062e-02 -3.30200233e-02 -2.90357266e-02  8.86888430e-02\n",
      "  2.15578042e-02 -9.85834777e-05  4.44004908e-02  1.01838065e-02\n",
      " -6.46249652e-02 -8.49035289e-03  5.77879930e-03 -1.05030835e-03\n",
      "  4.40370068e-02 -7.20993727e-02  1.31289298e-02 -4.60197777e-02\n",
      "  2.94458251e-02 -8.74174107e-03  6.89621735e-03  5.41241392e-02\n",
      " -1.97909437e-02  4.58704792e-02 -5.37449773e-03 -4.55414169e-02\n",
      "  4.57210168e-02 -2.89086755e-02 -3.27177346e-02 -1.28450170e-01\n",
      "  6.78722635e-02  7.65425735e-04 -1.07302822e-01 -4.52424437e-02\n",
      "  3.53854001e-02  3.53657687e-03  1.84797570e-02 -2.53074560e-02\n",
      " -2.12684628e-02 -2.57142968e-02  1.63828172e-02 -2.22379565e-02\n",
      " -8.21053982e-03  5.70101626e-02 -9.49384719e-02  4.40708250e-02\n",
      " -2.72700824e-02 -7.32846931e-02  8.50595087e-02  3.54772210e-02\n",
      "  7.84433335e-02 -4.32632118e-02 -2.74748560e-02  5.08432910e-02\n",
      " -3.59947681e-02  1.83122158e-02  2.90060584e-02 -2.56000590e-02\n",
      "  1.33991698e-02 -6.51674792e-02 -7.01555014e-02  1.05832726e-01\n",
      "  4.81553786e-02  2.13959739e-02 -1.10037424e-01 -1.61603317e-02\n",
      "  1.62388697e-01 -4.89614531e-02 -2.31300481e-02  4.14402820e-02\n",
      " -1.27545059e-01 -4.27260175e-02  2.85227448e-02  1.10957390e-02]\n"
     ]
    }
   ],
   "source": [
    "# Retrieve the word vector for the word \"flower\" from the Word2Vec model\n",
    "flower_vector = model.wv[\"flower\"]\n",
    "\n",
    "# Print the word vector\n",
    "print(\"Word vector for 'flower':\", flower_vector)\n",
    "\n",
    "# runtime ~ 1s"
   ]
  },
  {
   "cell_type": "markdown",
   "metadata": {},
   "source": [
    "## <ins>Create feature vectors<ins>"
   ]
  },
  {
   "cell_type": "code",
   "execution_count": 35,
   "metadata": {},
   "outputs": [],
   "source": [
    "def makeFeatureVec(words, model, num_features):\n",
    "    #Function to average all of the word vectors in a given paragraph\n",
    "\n",
    "    # Pre-initialize an empty numpy array (for speed)\n",
    "    featureVec = np.zeros((num_features,), dtype=\"float32\")\n",
    "    \n",
    "    nwords = 0\n",
    "    \n",
    "    # Index2word is a set that contains the names of the words in \n",
    "    # the model's vocabulary. \n",
    "    index2word_set = set(model.wv.index_to_key)\n",
    "    \n",
    "    # Loop over each word in the paragraph and, if it is in the model's\n",
    "    # vocabulary, add its feature vector to the total\n",
    "    for word in words:\n",
    "        if word in index2word_set: \n",
    "            nwords += 1\n",
    "            featureVec = np.add(featureVec, model.wv[word])\n",
    "    \n",
    "    # Divide the result by the number of words to get the average\n",
    "    if nwords > 0:\n",
    "        featureVec = np.divide(featureVec, nwords)\n",
    "    \n",
    "    return featureVec\n",
    "\n",
    "# runtime ~ 1s"
   ]
  },
  {
   "cell_type": "code",
   "execution_count": 36,
   "metadata": {},
   "outputs": [],
   "source": [
    "def getAvgFeatureVecs(reviews, model, num_features):\n",
    "    # Given a set of reviews (each one a list of words), calculate \n",
    "    # the average feature vector for each one and return a 2D numpy array\n",
    "    \n",
    "    # Initialize a counter\n",
    "    counter = 0\n",
    "    \n",
    "    # Preallocate a 2D numpy array to store the feature vectors, for speed\n",
    "    reviewFeatureVecs = np.zeros((len(reviews), num_features), dtype=\"float32\")\n",
    "    \n",
    "    # Loop through the reviews\n",
    "    for review in reviews:\n",
    "        # Print a status message every 1000th review\n",
    "        if counter % 1000 == 0:\n",
    "            print(\"Review %d of %d\" % (counter, len(reviews)))\n",
    "        \n",
    "        # Call the function (defined above) that makes average feature vectors\n",
    "        reviewFeatureVecs[counter] = makeFeatureVec(review, model, num_features)\n",
    "        \n",
    "        # Increment the counter\n",
    "        counter += 1\n",
    "    \n",
    "    return reviewFeatureVecs\n",
    "\n",
    "# runtime ~ 1s"
   ]
  },
  {
   "cell_type": "code",
   "execution_count": 37,
   "metadata": {},
   "outputs": [
    {
     "name": "stdout",
     "output_type": "stream",
     "text": [
      "Creating average feature vecs for training reviews...\n",
      "Review 0 of 25000\n",
      "Review 1000 of 25000\n",
      "Review 2000 of 25000\n",
      "Review 3000 of 25000\n",
      "Review 4000 of 25000\n",
      "Review 5000 of 25000\n",
      "Review 6000 of 25000\n",
      "Review 7000 of 25000\n",
      "Review 8000 of 25000\n",
      "Review 9000 of 25000\n",
      "Review 10000 of 25000\n",
      "Review 11000 of 25000\n",
      "Review 12000 of 25000\n",
      "Review 13000 of 25000\n",
      "Review 14000 of 25000\n",
      "Review 15000 of 25000\n",
      "Review 16000 of 25000\n",
      "Review 17000 of 25000\n",
      "Review 18000 of 25000\n",
      "Review 19000 of 25000\n",
      "Review 20000 of 25000\n",
      "Review 21000 of 25000\n",
      "Review 22000 of 25000\n",
      "Review 23000 of 25000\n",
      "Review 24000 of 25000\n",
      "Creating average feature vecs for test reviews...\n",
      "Review 0 of 25000\n",
      "Review 1000 of 25000\n",
      "Review 2000 of 25000\n",
      "Review 3000 of 25000\n",
      "Review 4000 of 25000\n",
      "Review 5000 of 25000\n",
      "Review 6000 of 25000\n",
      "Review 7000 of 25000\n",
      "Review 8000 of 25000\n",
      "Review 9000 of 25000\n",
      "Review 10000 of 25000\n",
      "Review 11000 of 25000\n",
      "Review 12000 of 25000\n",
      "Review 13000 of 25000\n",
      "Review 14000 of 25000\n",
      "Review 15000 of 25000\n",
      "Review 16000 of 25000\n",
      "Review 17000 of 25000\n",
      "Review 18000 of 25000\n",
      "Review 19000 of 25000\n",
      "Review 20000 of 25000\n",
      "Review 21000 of 25000\n",
      "Review 22000 of 25000\n",
      "Review 23000 of 25000\n",
      "Review 24000 of 25000\n"
     ]
    }
   ],
   "source": [
    "# Initialize an empty list to store the cleaned training reviews\n",
    "clean_train_reviews = []\n",
    "\n",
    "# Suppress MarkupResemblesLocatorWarning\n",
    "with warnings.catch_warnings():\n",
    "    warnings.simplefilter(\"ignore\")\n",
    "    \n",
    "    # Clean the training reviews by removing stopwords and tokenizing them\n",
    "    for review in TrainDF[\"review\"]:\n",
    "        clean_train_reviews.append(review_to_wordlist(review, remove_stopwords=True))\n",
    "\n",
    "# Print a message indicating the start of creating average feature vectors for training data\n",
    "print(\"Creating average feature vecs for training reviews...\")\n",
    "\n",
    "# Calculate average feature vectors for training data\n",
    "trainDataVecs = getAvgFeatureVecs(clean_train_reviews, model, num_features)\n",
    "\n",
    "# Initialize an empty list to store the cleaned testing reviews\n",
    "clean_test_reviews = []\n",
    "\n",
    "# Suppress MarkupResemblesLocatorWarning\n",
    "with warnings.catch_warnings():\n",
    "    warnings.simplefilter(\"ignore\")\n",
    "    \n",
    "    # Clean the testing reviews by removing stopwords and tokenizing them\n",
    "    for review in TestDF[\"review\"]:\n",
    "        clean_test_reviews.append(review_to_wordlist(review, remove_stopwords=True))\n",
    "\n",
    "# Print a message indicating the start of creating average feature vectors for testing data\n",
    "print(\"Creating average feature vecs for test reviews...\")\n",
    "\n",
    "# Calculate average feature vectors for testing data\n",
    "testDataVecs = getAvgFeatureVecs(clean_test_reviews, model, num_features)\n",
    "\n",
    "# runtime ~ 45s"
   ]
  },
  {
   "cell_type": "markdown",
   "metadata": {},
   "source": [
    "## <ins>K Means with Random Forest<ins>"
   ]
  },
  {
   "cell_type": "code",
   "execution_count": 38,
   "metadata": {},
   "outputs": [
    {
     "name": "stdout",
     "output_type": "stream",
     "text": [
      "Fitting a random forest to labeled training data...\n"
     ]
    }
   ],
   "source": [
    "# Fit a random forest classifier to the training data, using 100 trees\n",
    "forest = RandomForestClassifier(n_estimators=100)\n",
    "\n",
    "# Train the random forest classifier on the labeled training data\n",
    "print(\"Fitting a random forest to labeled training data...\")\n",
    "forest.fit(trainDataVecs, TrainDF[\"sentiment\"])\n",
    "\n",
    "# Test the trained model and extract results \n",
    "result = forest.predict(testDataVecs)\n",
    "\n",
    "# Write the test results to a CSV file\n",
    "output = pd.DataFrame(data={\"id\": TestDF[\"id\"], \"sentiment\": result})\n",
    "output.to_csv(\"Word2Vec_AverageVectors.csv\", index=False, quoting=3)\n",
    "\n",
    "# runtime ~ 30s"
   ]
  },
  {
   "cell_type": "code",
   "execution_count": 39,
   "metadata": {},
   "outputs": [
    {
     "name": "stdout",
     "output_type": "stream",
     "text": [
      "Time taken for K Means clustering: 18.5 seconds.\n"
     ]
    }
   ],
   "source": [
    "# Start time\n",
    "start = time.time()\n",
    "\n",
    "# Set \"k\" (num_clusters) to be 1/5th of the vocabulary size or an average of 5 words per cluster\n",
    "word_vectors = model.wv.vectors\n",
    "num_clusters = int(word_vectors.shape[0] / 5)\n",
    "\n",
    "# Initialize a KMeans object and use it to extract centroids\n",
    "kmeans_clustering = KMeans(n_clusters=num_clusters)\n",
    "idx = kmeans_clustering.fit_predict(word_vectors)\n",
    "\n",
    "# Get the end time and print how long the process took\n",
    "end = time.time()\n",
    "elapsed = end - start\n",
    "print(\"Time taken for K Means clustering:\", round(elapsed, 1), \"seconds.\")\n",
    "\n",
    "# runtime ~ 15s"
   ]
  },
  {
   "cell_type": "code",
   "execution_count": 40,
   "metadata": {},
   "outputs": [],
   "source": [
    "# Create a Word/Index dictionary, mapping each vocabulary word to a cluster number\n",
    "word_centroid_map = dict(zip(model.wv.index_to_key, idx))\n",
    "\n",
    "# runtime ~ 1s"
   ]
  },
  {
   "cell_type": "code",
   "execution_count": 41,
   "metadata": {},
   "outputs": [
    {
     "name": "stdout",
     "output_type": "stream",
     "text": [
      "\n",
      "Cluster 0\n",
      "['curve']\n",
      "\n",
      "Cluster 1\n",
      "['yeager']\n",
      "\n",
      "Cluster 2\n",
      "['attacks', 'havoc', 'accidents', 'wreak']\n",
      "\n",
      "Cluster 3\n",
      "['rampant', 'misogyny', 'titillation']\n",
      "\n",
      "Cluster 4\n",
      "['defends', 'abandoning', 'accuses', 'hypocrite', 'fancies']\n",
      "\n",
      "Cluster 5\n",
      "['penny', 'donna', 'angelo', 'lindsey']\n",
      "\n",
      "Cluster 6\n",
      "['patrick', 'matthew', 'ian', 'shaw', 'guinness', 'rea', 'atkins', 'fishburne', 'holm', 'mcshane', 'gackt', 'lew', 'schildkraut', 'spall']\n",
      "\n",
      "Cluster 7\n",
      "['clich', 'trite', 'cliche', 'stale', 'ridden', 'hackneyed', 'cliches', 'plotting', 'cliched', 'predictability']\n",
      "\n",
      "Cluster 8\n",
      "['sergio', 'nero', 'takashi', 'leone', 'milestone', 'akira', 'canon', 'corbucci', 'martino', 'wenders', 'varma', 'harlin']\n",
      "\n",
      "Cluster 9\n",
      "['allegedly', 'ambassador']\n"
     ]
    }
   ],
   "source": [
    "# For the first 10 clusters\n",
    "for cluster in range(10):\n",
    "    # Print the cluster number\n",
    "    print(\"\\nCluster %d\" % cluster)\n",
    "    \n",
    "    # Find all of the words for that cluster number, and print them out\n",
    "    words = [word for word, centroid in word_centroid_map.items() if centroid == cluster]\n",
    "    print(words)\n",
    "    \n",
    "# runtime ~ 1s"
   ]
  },
  {
   "cell_type": "code",
   "execution_count": 42,
   "metadata": {},
   "outputs": [],
   "source": [
    "def create_bag_of_centroids(wordlist, word_centroid_map):\n",
    "    # Create a bag of centroids representation for a given list of words using a word centroid map.\n",
    "        \n",
    "    # The number of clusters is equal to the highest cluster index in the word/centroid map\n",
    "    num_centroids = max(word_centroid_map.values()) + 1\n",
    "    \n",
    "    # Pre-allocate the bag of centroids vector (for speed)\n",
    "    bag_of_centroids = np.zeros(num_centroids, dtype=\"float32\")\n",
    "    \n",
    "    # Loop over the words in the review. If the word is in the vocabulary,\n",
    "    # find which cluster it belongs to, and increment that cluster count by one\n",
    "    for word in wordlist:\n",
    "        if word in word_centroid_map:\n",
    "            index = word_centroid_map[word]\n",
    "            bag_of_centroids[index] += 1\n",
    "    \n",
    "    # Return the \"bag of centroids\"\n",
    "    return bag_of_centroids\n",
    "\n",
    "# runtime ~ 1s"
   ]
  },
  {
   "cell_type": "code",
   "execution_count": 43,
   "metadata": {},
   "outputs": [],
   "source": [
    "# Pre-allocate an array for the training set bags of centroids (for speed)\n",
    "train_centroids = np.zeros((TrainDF[\"review\"].size, num_clusters), dtype=\"float32\")\n",
    "\n",
    "# Transform the training set reviews into bags of centroids\n",
    "counter = 0\n",
    "for review in clean_train_reviews:\n",
    "    train_centroids[counter] = create_bag_of_centroids(review, word_centroid_map)\n",
    "    counter += 1\n",
    "\n",
    "# Repeat for test reviews \n",
    "test_centroids = np.zeros((TestDF[\"review\"].size, num_clusters), dtype=\"float32\")\n",
    "\n",
    "counter = 0\n",
    "for review in clean_test_reviews:\n",
    "    test_centroids[counter] = create_bag_of_centroids(review, word_centroid_map)\n",
    "    counter += 1\n",
    "\n",
    "# runtime ~ 15s"
   ]
  },
  {
   "cell_type": "code",
   "execution_count": 44,
   "metadata": {},
   "outputs": [
    {
     "name": "stdout",
     "output_type": "stream",
     "text": [
      "Fitting a random forest to labeled training data...\n"
     ]
    }
   ],
   "source": [
    "# Fit a random forest classifier with 100 trees\n",
    "forest = RandomForestClassifier(n_estimators=100)\n",
    "\n",
    "# Fitting the forest may take a few minutes\n",
    "print(\"Fitting a random forest to labeled training data...\")\n",
    "forest.fit(train_centroids, TrainDF[\"sentiment\"])\n",
    "\n",
    "# Predict sentiment labels for the test set\n",
    "result = forest.predict(test_centroids)\n",
    "\n",
    "# Write the test results to a CSV file\n",
    "output = pd.DataFrame(data={\"id\": TestDF[\"id\"], \"sentiment\": result})\n",
    "output.to_csv(\"BagOfCentroids.csv\", index=False, quoting=3)\n",
    "\n",
    "# runtime ~ 15s"
   ]
  },
  {
   "cell_type": "markdown",
   "metadata": {},
   "source": [
    "## <ins>Check Results<ins>"
   ]
  },
  {
   "cell_type": "code",
   "execution_count": 45,
   "metadata": {},
   "outputs": [
    {
     "name": "stdout",
     "output_type": "stream",
     "text": [
      "Overall percentage of correct predictions: 86.57%\n"
     ]
    }
   ],
   "source": [
    "import pandas as pd\n",
    "\n",
    "# Merge TrainDF and output DataFrames based on the 'id' column\n",
    "merged_df = pd.merge(TrainDF, output, on='id')\n",
    "\n",
    "# Check for correct predictions\n",
    "merged_df['correct_prediction'] = merged_df['sentiment_x'] == merged_df['sentiment_y']\n",
    "\n",
    "# Calculate the overall percentage of correct predictions\n",
    "overall_percentage_correct = (merged_df['correct_prediction'].mean()) * 100\n",
    "\n",
    "# Display the result\n",
    "print(f\"Overall percentage of correct predictions: {overall_percentage_correct:.2f}%\")\n",
    "\n",
    "# runtime ~ 1s"
   ]
  },
  {
   "cell_type": "code",
   "execution_count": 46,
   "metadata": {},
   "outputs": [
    {
     "data": {
      "image/png": "[encoded data removed]",
      "text/plain": [
       "<Figure size 800x600 with 1 Axes>"
      ]
     },
     "metadata": {},
     "output_type": "display_data"
    }
   ],
   "source": [
    "# Merge TrainDF and output DataFrames based on the 'id' column\n",
    "merged_df = pd.merge(TrainDF, output, on='id')\n",
    "\n",
    "# Assuming sentiment_x is the true labels and sentiment_y is the predicted probabilities\n",
    "# Extracting true labels and predicted probabilities\n",
    "true_labels = merged_df['sentiment_x']\n",
    "predicted_probabilities = merged_df['sentiment_y']\n",
    "\n",
    "# Calculate fpr, tpr, thresholds and AUC\n",
    "fpr, tpr, thresholds = roc_curve(true_labels, predicted_probabilities)\n",
    "roc_auc = auc(fpr, tpr)\n",
    "\n",
    "# Plotting the ROC curve\n",
    "plt.figure(figsize=(8, 6))\n",
    "plt.plot(fpr, tpr, color='darkorange', lw=2, label=f'ROC curve (AUC = {roc_auc:.2f})')\n",
    "plt.plot([0, 1], [0, 1], color='navy', lw=2, linestyle='--')\n",
    "plt.text(0.6, 0.4, 'Random guess benchmark', fontsize=10, ha='center', color='navy')\n",
    "plt.text(0.2, 0.9, 'Model accuracy', fontsize=10, ha='center', color='darkorange')\n",
    "plt.xlim([0.0, 1.0])\n",
    "plt.ylim([0.0, 1.05])\n",
    "plt.xlabel('False Positive Rate (%)')\n",
    "plt.ylabel('True Positive Rate (%)')\n",
    "plt.title('ROC Curve')\n",
    "plt.legend(loc='lower right')\n",
    "plt.show()\n",
    "\n",
    "\n",
    "# runtime ~ 1s"
   ]
  }
 ],
 "metadata": {
  "kernelspec": {
   "display_name": "Python 3",
   "language": "python",
   "name": "python3"
  },
  "language_info": {
   "codemirror_mode": {
    "name": "ipython",
    "version": 3
   },
   "file_extension": ".py",
   "mimetype": "text/x-python",
   "name": "python",
   "nbconvert_exporter": "python",
   "pygments_lexer": "ipython3",
   "version": "3.11.8"
  }
 },
 "nbformat": 4,
 "nbformat_minor": 2
}
